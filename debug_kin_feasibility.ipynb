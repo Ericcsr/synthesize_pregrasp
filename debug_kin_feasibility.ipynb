{
 "cells": [
  {
   "cell_type": "code",
   "execution_count": 1,
   "metadata": {},
   "outputs": [
    {
     "name": "stderr",
     "output_type": "stream",
     "text": [
      "pybullet build time: May 20 2022 19:44:17\n"
     ]
    },
    {
     "name": "stdout",
     "output_type": "stream",
     "text": [
      "Jupyter environment detected. Enabling Open3D WebVisualizer.\n",
      "[Open3D INFO] WebRTC GUI backend enabled.\n",
      "[Open3D INFO] WebRTCWindowSystem: HTTP handshake server disabled.\n"
     ]
    }
   ],
   "source": [
    "from utils.kin_feasibility_check import check_kin_feasible\n",
    "from utils import rigidBodySento as rb \n",
    "import open3d as o3d\n",
    "import numpy as np\n",
    "import pybullet as p"
   ]
  },
  {
   "cell_type": "code",
   "execution_count": 2,
   "metadata": {},
   "outputs": [],
   "source": [
    "def create_o3d_box():\n",
    "    mesh_box = o3d.geometry.TriangleMesh.create_box(0.4, 0.4, 0.1)\n",
    "    mesh_box.translate([-0.2, -0.2, -0.05])\n",
    "    mesh_box.compute_vertex_normals()\n",
    "    mesh_box.compute_triangle_normals()\n",
    "    point_box = mesh_box.sample_points_poisson_disk(2048, use_triangle_normal=True)\n",
    "    kd_tree = o3d.geometry.KDTreeFlann(point_box)\n",
    "    return point_box, kd_tree\n",
    "\n",
    "def project_to_pcd(points, normals, tip_poses, kd_tree):\n",
    "    new_poses=[]\n",
    "    for i in range(len(tip_poses)):\n",
    "        idx = kd_tree.search_knn_vector_3d(tip_poses[i],1)[1]\n",
    "        new_poses.append(np.hstack([points[idx], normals[idx]]).flatten())\n",
    "    new_poses.append(np.array([100, 100, 100, 0, 0, 0])) # Ring finger\n",
    "    return np.asarray(new_poses)\n",
    "\n",
    "def create_pybullet_box():\n",
    "    box = rb.create_primitive_shape(p, 1.0, p.GEOM_BOX, (0.2, 0.2, 0.05),         # half-extend\n",
    "                                    color=(0.6, 0, 0, 0.8), collidable=True,\n",
    "                                    init_xyz=[0, 0, 0],\n",
    "                                    init_quat=[0, 0, 0, 1])\n",
    "    return box\n",
    "\n",
    "def load_hand():\n",
    "    hand = p.loadURDF(\"model/resources/allegro_hand_description/urdf/allegro_hand_description_right.urdf\", useFixedBase=True)\n",
    "    return hand\n",
    "\n",
    "def set_pybullet_hand_state(state, hand):\n",
    "    base_position, base_quaternion, hand_q = state\n",
    "    p.resetBasePositionAndOrientation(hand, base_position, base_quaternion)\n",
    "    for i in range(len(hand_q)):\n",
    "        p.resetJointState(hand, i, targetValue=hand_q[i])\n",
    "\n",
    "\n",
    "def gen_grasp(tip_pose, pcd, kd_tree):\n",
    "    points = np.asarray(pcd.points)\n",
    "    normals = np.asarray(pcd.normals)\n",
    "    projected_tip_pose = project_to_pcd(points, normals, tip_pose, kd_tree)\n",
    "    print(projected_tip_pose)\n",
    "    vis_spheres = []\n",
    "    for i in range(len(projected_tip_pose)-1):\n",
    "        sp = o3d.geometry.TriangleMesh.create_sphere(0.01)\n",
    "        sp.translate(projected_tip_pose[i,:3])\n",
    "        vis_spheres.append(sp)\n",
    "    return projected_tip_pose, vis_spheres"
   ]
  },
  {
   "cell_type": "code",
   "execution_count": 3,
   "metadata": {},
   "outputs": [
    {
     "name": "stdout",
     "output_type": "stream",
     "text": [
      "[[ 9.45224275e-02  1.12711339e-03  5.00000000e-02  0.00000000e+00\n",
      "   0.00000000e+00  1.00000000e+00]\n",
      " [ 1.00721232e-01 -5.61076514e-02 -5.00000000e-02  0.00000000e+00\n",
      "   0.00000000e+00 -1.00000000e+00]\n",
      " [ 2.00000000e-01  5.10987731e-02 -3.40273956e-02  1.00000000e+00\n",
      "   0.00000000e+00  0.00000000e+00]\n",
      " [ 1.00000000e+02  1.00000000e+02  1.00000000e+02  0.00000000e+00\n",
      "   0.00000000e+00  0.00000000e+00]]\n"
     ]
    }
   ],
   "source": [
    "box, kd_tree = create_o3d_box()\n",
    "grasp = np.array([[0.1, 0., 0.05],\n",
    "                  [0.2, 0.05, -0.04],\n",
    "                  [0.1, -0.05, -0.05]])\n",
    "projected_grasp, vis = gen_grasp(grasp, box, kd_tree)\n",
    "o3d.visualization.draw_geometries([box]+vis)"
   ]
  },
  {
   "cell_type": "code",
   "execution_count": 4,
   "metadata": {},
   "outputs": [
    {
     "name": "stdout",
     "output_type": "stream",
     "text": [
      "Collision: False Target: False Base: True\n",
      "Collision: False Target: False Base: True\n",
      "Collision: False Target: False Base: True\n"
     ]
    }
   ],
   "source": [
    "flag, state = check_kin_feasible(projected_grasp[:,:3], projected_grasp[:,3:])"
   ]
  },
  {
   "cell_type": "code",
   "execution_count": 5,
   "metadata": {},
   "outputs": [
    {
     "name": "stdout",
     "output_type": "stream",
     "text": [
      "startThreads creating 1 threads.\n",
      "starting thread 0\n",
      "started thread 0 \n",
      "argc=2\n",
      "argv[0] = --unused\n",
      "argv[1] = --start_demo_name=Physics Server\n",
      "ExampleBrowserThreadFunc started\n",
      "X11 functions dynamically loaded using dlopen/dlsym OK!\n",
      "X11 functions dynamically loaded using dlopen/dlsym OK!\n",
      "Creating context\n",
      "Created GL 3.3 context\n",
      "Direct GLX rendering context obtained\n",
      "Making context current\n",
      "GL_VENDOR=NVIDIA Corporation\n",
      "GL_RENDERER=NVIDIA GeForce GTX 1650/PCIe/SSE2\n",
      "GL_VERSION=3.3.0 NVIDIA 470.129.06\n",
      "GL_SHADING_LANGUAGE_VERSION=3.30 NVIDIA via Cg compiler\n",
      "pthread_getconcurrency()=0\n",
      "Version = 3.3.0 NVIDIA 470.129.06\n",
      "Vendor = NVIDIA Corporation\n",
      "Renderer = NVIDIA GeForce GTX 1650/PCIe/SSE2\n",
      "b3Printf: Selected demo: Physics Server\n",
      "startThreads creating 1 threads.\n",
      "starting thread 0\n",
      "started thread 0 \n",
      "MotionThreadFunc thread started\n",
      "b3Printf: b3Warning[examples/Importers/ImportURDFDemo/BulletUrdfImporter.cpp,126]:\n",
      "\n",
      "b3Printf: No inertial data for link, using mass=1, localinertiadiagonal = 1,1,1, identity local inertial frame\n",
      "b3Printf: b3Warning[examples/Importers/ImportURDFDemo/BulletUrdfImporter.cpp,126]:\n",
      "\n",
      "b3Printf: hand_root\n",
      "ven = NVIDIA Corporation\n",
      "ven = NVIDIA Corporation\n"
     ]
    },
    {
     "ename": "",
     "evalue": "",
     "output_type": "error",
     "traceback": [
      "\u001b[1;31mThe Kernel crashed while executing code in the the current cell or a previous cell. Please review the code in the cell(s) to identify a possible cause of the failure. Click <a href='https://aka.ms/vscodeJupyterKernelCrash'>here</a> for more info. View Jupyter <a href='command:jupyter.viewOutput'>log</a> for further details."
     ]
    }
   ],
   "source": [
    "p.connect(p.GUI)\n",
    "obj = create_pybullet_box()\n",
    "hand = load_hand()\n",
    "set_pybullet_hand_state(state, hand)"
   ]
  },
  {
   "cell_type": "code",
   "execution_count": null,
   "metadata": {},
   "outputs": [],
   "source": []
  }
 ],
 "metadata": {
  "kernelspec": {
   "display_name": "Python 3.8.13 ('dex_manip')",
   "language": "python",
   "name": "python3"
  },
  "language_info": {
   "codemirror_mode": {
    "name": "ipython",
    "version": 3
   },
   "file_extension": ".py",
   "mimetype": "text/x-python",
   "name": "python",
   "nbconvert_exporter": "python",
   "pygments_lexer": "ipython3",
   "version": "3.8.13"
  },
  "orig_nbformat": 4,
  "vscode": {
   "interpreter": {
    "hash": "a13924603cf124e169c00f51f55efb178979cb98f2833cd534c16d33f0a3fe3d"
   }
  }
 },
 "nbformat": 4,
 "nbformat_minor": 2
}
