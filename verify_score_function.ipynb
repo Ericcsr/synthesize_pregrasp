{
 "cells": [
  {
   "cell_type": "code",
   "execution_count": 1,
   "metadata": {},
   "outputs": [
    {
     "name": "stdout",
     "output_type": "stream",
     "text": [
      "Jupyter environment detected. Enabling Open3D WebVisualizer.\n",
      "[Open3D INFO] WebRTC GUI backend enabled.\n",
      "[Open3D INFO] WebRTCWindowSystem: HTTP handshake server disabled.\n"
     ]
    },
    {
     "name": "stderr",
     "output_type": "stream",
     "text": [
      "pybullet build time: May 20 2022 19:44:17\n"
     ]
    }
   ],
   "source": [
    "import torch \n",
    "import numpy as np\n",
    "import open3d as o3d\n",
    "from neurals.network import LargeScoreFunction"
   ]
  },
  {
   "cell_type": "code",
   "execution_count": 2,
   "metadata": {},
   "outputs": [],
   "source": [
    "def project_to_pcd(tip_poses, kd_tree, points):\n",
    "    new_poses = np.zeros_like(tip_poses)\n",
    "    for i, tip_pose in enumerate(tip_poses):\n",
    "        idx = kd_tree.search_knn_vector_3d(tip_pose,1)[1]\n",
    "        new_poses[i] = points[idx]\n",
    "    return new_poses\n",
    "        \n",
    "def project_vis_grasp(grasp, point_cloud):\n",
    "    points = np.asarray(point_cloud.points)\n",
    "    kd_tree = o3d.geometry.KDTreeFlann(point_cloud)\n",
    "    projected_grasp = project_to_pcd(grasp, kd_tree, points)\n",
    "    tip_vis = []\n",
    "    for point in projected_grasp:\n",
    "        sp = o3d.geometry.TriangleMesh.create_sphere(0.01)\n",
    "        sp.translate(point)\n",
    "        tip_vis.append(sp)\n",
    "    # Down sample the pointcloud\n",
    "    idx = np.random.choice(len(points), 1024, replace=False)\n",
    "    points_down = points[idx]\n",
    "    return projected_grasp, points_down, tip_vis + [point_cloud]"
   ]
  },
  {
   "cell_type": "code",
   "execution_count": 3,
   "metadata": {},
   "outputs": [
    {
     "data": {
      "text/plain": [
       "LargeScoreFunction(\n",
       "  (pcn): PCN(\n",
       "    (conv1): Conv1d(3, 32, kernel_size=(1,), stride=(1,))\n",
       "    (conv2): Conv1d(32, 64, kernel_size=(1,), stride=(1,))\n",
       "    (conv3): Conv1d(128, 128, kernel_size=(1,), stride=(1,))\n",
       "    (conv4): Conv1d(128, 128, kernel_size=(1,), stride=(1,))\n",
       "  )\n",
       "  (fc1): Linear(in_features=134, out_features=512, bias=True)\n",
       "  (fc2): Linear(in_features=512, out_features=256, bias=True)\n",
       "  (out): Linear(in_features=256, out_features=1, bias=True)\n",
       ")"
      ]
     },
     "execution_count": 3,
     "metadata": {},
     "output_type": "execute_result"
    }
   ],
   "source": [
    "score_function = LargeScoreFunction(2)\n",
    "score_function.load_state_dict(torch.load(\"neurals/pretrained_score_function/only_score_model_larger_model_2980.pth\"))\n",
    "score_function.eval()"
   ]
  },
  {
   "cell_type": "code",
   "execution_count": 4,
   "metadata": {},
   "outputs": [
    {
     "name": "stdout",
     "output_type": "stream",
     "text": [
      "tensor([[-4.9595]], grad_fn=<AddmmBackward0>)\n"
     ]
    }
   ],
   "source": [
    "pcd = o3d.io.read_point_cloud(\"data/seeds/pointclouds/pose_5_pcd.ply\")\n",
    "grasp = np.array([[0.15, -0.05, 0.05],[0.2, 0.0, -0.03]])\n",
    "projected_grasp, points, vis = project_vis_grasp(grasp, pcd)\n",
    "condition = torch.from_numpy(projected_grasp).view(1,-1).float()\n",
    "points = torch.from_numpy(points).view(1,1024,3).float()\n",
    "print(score_function.pred_score(points, condition))"
   ]
  },
  {
   "cell_type": "code",
   "execution_count": 5,
   "metadata": {},
   "outputs": [],
   "source": []
  },
  {
   "cell_type": "code",
   "execution_count": 5,
   "metadata": {},
   "outputs": [],
   "source": [
    "o3d.visualization.draw_geometries(vis)"
   ]
  },
  {
   "cell_type": "code",
   "execution_count": null,
   "metadata": {},
   "outputs": [],
   "source": []
  }
 ],
 "metadata": {
  "kernelspec": {
   "display_name": "Python 3.8.13 ('dex_manip')",
   "language": "python",
   "name": "python3"
  },
  "language_info": {
   "codemirror_mode": {
    "name": "ipython",
    "version": 3
   },
   "file_extension": ".py",
   "mimetype": "text/x-python",
   "name": "python",
   "nbconvert_exporter": "python",
   "pygments_lexer": "ipython3",
   "version": "3.8.13"
  },
  "orig_nbformat": 4,
  "vscode": {
   "interpreter": {
    "hash": "a13924603cf124e169c00f51f55efb178979cb98f2833cd534c16d33f0a3fe3d"
   }
  }
 },
 "nbformat": 4,
 "nbformat_minor": 2
}
