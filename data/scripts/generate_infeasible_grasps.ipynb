{
 "cells": [
  {
   "cell_type": "code",
   "execution_count": 1,
   "metadata": {},
   "outputs": [
    {
     "name": "stdout",
     "output_type": "stream",
     "text": [
      "Jupyter environment detected. Enabling Open3D WebVisualizer.\n",
      "[Open3D INFO] WebRTC GUI backend enabled.\n",
      "[Open3D INFO] WebRTCWindowSystem: HTTP handshake server disabled.\n"
     ]
    }
   ],
   "source": [
    "import open3d as o3d\n",
    "import numpy as np\n",
    "\n",
    "def vis_grasp(grasp):\n",
    "    vis_sphere = []\n",
    "    for i in range(3):\n",
    "        sp = o3d.geometry.TriangleMesh.create_sphere(0.01)\n",
    "        sp.translate(grasp[i,:3])\n",
    "        vis_sphere.append(sp)\n",
    "    return vis_sphere"
   ]
  },
  {
   "cell_type": "code",
   "execution_count": 41,
   "metadata": {},
   "outputs": [
    {
     "name": "stdout",
     "output_type": "stream",
     "text": [
      "(163, 3, 6)\n"
     ]
    }
   ],
   "source": [
    "grasps = np.load(\"../seeds/processed_data/level_three_feasible_grasps.npy\")\n",
    "print(grasps.shape)"
   ]
  },
  {
   "cell_type": "code",
   "execution_count": 42,
   "metadata": {},
   "outputs": [],
   "source": [
    "pose_0_grasps = grasps[:20]\n",
    "pose_1_grasps = grasps[20:73]\n",
    "pose_2_grasps = grasps[73:118]\n",
    "pose_3_grasps = grasps[118:142]\n",
    "pose_4_grasps = grasps[142:163]"
   ]
  },
  {
   "cell_type": "code",
   "execution_count": 4,
   "metadata": {},
   "outputs": [],
   "source": [
    "pcds = []\n",
    "pcds.append(o3d.io.read_point_cloud(\"../seeds/pointclouds/pose_0_pcd.ply\"))\n",
    "pcds.append(o3d.io.read_point_cloud(\"../seeds/pointclouds/pose_1_pcd.ply\"))\n",
    "pcds.append(o3d.io.read_point_cloud(\"../seeds/pointclouds/pose_2_pcd.ply\"))\n",
    "pcds.append(o3d.io.read_point_cloud(\"../seeds/pointclouds/pose_3_pcd.ply\"))\n",
    "pcds.append(o3d.io.read_point_cloud(\"../seeds/pointclouds/pose_4_pcd.ply\"))"
   ]
  },
  {
   "cell_type": "code",
   "execution_count": 50,
   "metadata": {},
   "outputs": [],
   "source": [
    "grasp = np.array([[ 0.0590467,  -0.00118714,  0.05      ],\n",
    " [ 0.17408131, -0.0690799,   0.05      ],\n",
    " [ 0.1827995,  -0.08494642, -0.05      ]])\n",
    "tips = vis_grasp(grasp)\n",
    "o3d.visualization.draw_geometries([pcds[0]] + tips)"
   ]
  },
  {
   "cell_type": "code",
   "execution_count": 44,
   "metadata": {},
   "outputs": [],
   "source": [
    "np.save(\"../seeds/grasps/pose_0.npy\", pose_0_grasps)\n",
    "np.save(\"../seeds/grasps/pose_1.npy\", pose_1_grasps)\n",
    "np.save(\"../seeds/grasps/pose_2.npy\", pose_2_grasps)\n",
    "np.save(\"../seeds/grasps/pose_3.npy\", pose_3_grasps)\n",
    "np.save(\"../seeds/grasps/pose_4.npy\", pose_4_grasps)"
   ]
  },
  {
   "cell_type": "code",
   "execution_count": 45,
   "metadata": {},
   "outputs": [
    {
     "name": "stdout",
     "output_type": "stream",
     "text": [
      "(552, 3, 6)\n"
     ]
    }
   ],
   "source": [
    "grasps = np.load(\"../seeds/processed_data/level_three_infeasible_grasps.npy\")\n",
    "print(grasps.shape)"
   ]
  },
  {
   "cell_type": "code",
   "execution_count": 46,
   "metadata": {},
   "outputs": [],
   "source": [
    "pose_0_grasps = grasps[:57]\n",
    "pose_1_grasps = grasps[57:213]\n",
    "pose_2_grasps = grasps[213:410]\n",
    "pose_3_grasps = grasps[410:485]\n",
    "pose_4_grasps = grasps[485:552]"
   ]
  },
  {
   "cell_type": "code",
   "execution_count": 47,
   "metadata": {},
   "outputs": [],
   "source": [
    "np.save(\"../seeds/bad_grasps/pose_0.npy\", pose_0_grasps[np.random.choice(len(pose_0_grasps), 40, replace=False)])\n",
    "np.save(\"../seeds/bad_grasps/pose_1.npy\", pose_1_grasps[np.random.choice(len(pose_1_grasps), 40, replace=False)])\n",
    "np.save(\"../seeds/bad_grasps/pose_2.npy\", pose_2_grasps[np.random.choice(len(pose_2_grasps), 40, replace=False)])\n",
    "np.save(\"../seeds/bad_grasps/pose_3.npy\", pose_3_grasps[np.random.choice(len(pose_3_grasps), 40, replace=False)])\n",
    "np.save(\"../seeds/bad_grasps/pose_4.npy\", pose_4_grasps[np.random.choice(len(pose_4_grasps), 40, replace=False)])"
   ]
  },
  {
   "cell_type": "code",
   "execution_count": null,
   "metadata": {},
   "outputs": [],
   "source": []
  }
 ],
 "metadata": {
  "kernelspec": {
   "display_name": "Python 3.8.13 ('dex_manip')",
   "language": "python",
   "name": "python3"
  },
  "language_info": {
   "codemirror_mode": {
    "name": "ipython",
    "version": 3
   },
   "file_extension": ".py",
   "mimetype": "text/x-python",
   "name": "python",
   "nbconvert_exporter": "python",
   "pygments_lexer": "ipython3",
   "version": "3.8.13"
  },
  "orig_nbformat": 4,
  "vscode": {
   "interpreter": {
    "hash": "a13924603cf124e169c00f51f55efb178979cb98f2833cd534c16d33f0a3fe3d"
   }
  }
 },
 "nbformat": 4,
 "nbformat_minor": 2
}
