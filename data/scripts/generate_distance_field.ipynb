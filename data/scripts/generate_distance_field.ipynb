{
 "cells": [
  {
   "cell_type": "code",
   "execution_count": 1,
   "metadata": {},
   "outputs": [
    {
     "name": "stdout",
     "output_type": "stream",
     "text": [
      "Jupyter environment detected. Enabling Open3D WebVisualizer.\n",
      "[Open3D INFO] WebRTC GUI backend enabled.\n",
      "[Open3D INFO] WebRTCWindowSystem: HTTP handshake server disabled.\n"
     ]
    }
   ],
   "source": [
    "import open3d as o3d\n",
    "import numpy as np\n",
    "import importlib.util\n",
    "import sys\n",
    "import transforms3d.euler as euler\n",
    "spec = importlib.util.spec_from_file_location(\"distancefield_utils\", \"../../neurals/distancefield_utils.py\")\n",
    "df_utils = importlib.util.module_from_spec(spec)\n",
    "sys.modules[\"distancefield_utils\"] = df_utils\n",
    "spec.loader.exec_module(df_utils)"
   ]
  },
  {
   "cell_type": "code",
   "execution_count": 2,
   "metadata": {},
   "outputs": [],
   "source": [
    "import os\n",
    "flist = os.listdir(\"../seeds_scale/obj_pose/\")"
   ]
  },
  {
   "cell_type": "code",
   "execution_count": 7,
   "metadata": {},
   "outputs": [],
   "source": [
    "env_ids = []\n",
    "pcds = []\n",
    "for f in flist:\n",
    "    d = np.load(f\"../seeds_scale/obj_pose/{f}\")\n",
    "    pcd = o3d.io.read_point_cloud(f\"../seeds_scale/pointclouds/{f[:-4]}.ply\")\n",
    "    tran = d[\"trans\"]\n",
    "    rot = d[\"rot\"]\n",
    "    env_ids.append(d[\"env_id\"])\n",
    "    pcd.rotate(rot).translate(tran)\n",
    "    pcds.append(pcd)"
   ]
  },
  {
   "cell_type": "code",
   "execution_count": 9,
   "metadata": {},
   "outputs": [],
   "source": [
    "dfs = []\n",
    "for i in range(len(env_ids)):\n",
    "    df_env = df_utils.env_lists[env_ids[i]]()\n",
    "    dfs.append(df_env.get_points_distance(np.asarray(pcds[i].points)))"
   ]
  },
  {
   "cell_type": "code",
   "execution_count": 12,
   "metadata": {},
   "outputs": [
    {
     "ename": "",
     "evalue": "",
     "output_type": "error",
     "traceback": [
      "\u001b[1;31mThe Kernel crashed while executing code in the the current cell or a previous cell. Please review the code in the cell(s) to identify a possible cause of the failure. Click <a href='https://aka.ms/vscodeJupyterKernelCrash'>here</a> for more info. View Jupyter <a href='command:jupyter.viewOutput'>log</a> for further details."
     ]
    }
   ],
   "source": [
    "for i in range(len(dfs)):\n",
    "    np.save(f\"../seeds_scale/pointclouds_df/{flist[i][:-4]}.npy\", dfs[i].numpy())"
   ]
  },
  {
   "cell_type": "code",
   "execution_count": null,
   "metadata": {},
   "outputs": [],
   "source": []
  }
 ],
 "metadata": {
  "kernelspec": {
   "display_name": "Python 3.8.13 ('dex')",
   "language": "python",
   "name": "python3"
  },
  "language_info": {
   "codemirror_mode": {
    "name": "ipython",
    "version": 3
   },
   "file_extension": ".py",
   "mimetype": "text/x-python",
   "name": "python",
   "nbconvert_exporter": "python",
   "pygments_lexer": "ipython3",
   "version": "3.8.13"
  },
  "orig_nbformat": 4,
  "vscode": {
   "interpreter": {
    "hash": "00b8f4a69a0ca14138cc33727ee41215cd45af553930c27cfc01041823663372"
   }
  }
 },
 "nbformat": 4,
 "nbformat_minor": 2
}
