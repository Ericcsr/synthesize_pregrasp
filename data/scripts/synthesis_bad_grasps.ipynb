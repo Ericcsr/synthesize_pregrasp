{
 "cells": [
  {
   "cell_type": "code",
   "execution_count": 1,
   "metadata": {},
   "outputs": [
    {
     "name": "stdout",
     "output_type": "stream",
     "text": [
      "Jupyter environment detected. Enabling Open3D WebVisualizer.\n",
      "[Open3D INFO] WebRTC GUI backend enabled.\n",
      "[Open3D INFO] WebRTCWindowSystem: HTTP handshake server disabled.\n"
     ]
    }
   ],
   "source": [
    "import open3d as o3d\n",
    "import numpy as np"
   ]
  },
  {
   "cell_type": "code",
   "execution_count": 2,
   "metadata": {},
   "outputs": [],
   "source": [
    "bad_pcds = []\n",
    "for i in range(8):\n",
    "    pcd = o3d.io.read_point_cloud(f\"../seeds_scale/bad_pointclouds/pose_{i:02}_pcd.ply\").farthest_point_down_sample(num_samples=1024)\n",
    "    bad_pcds.append(pcd)"
   ]
  },
  {
   "cell_type": "code",
   "execution_count": 8,
   "metadata": {},
   "outputs": [
    {
     "name": "stdout",
     "output_type": "stream",
     "text": [
      "(240, 6)\n",
      "(240,)\n",
      "(240, 1024, 3)\n"
     ]
    }
   ],
   "source": [
    "# Random pick some point as bad grasp\n",
    "bad_conditions = []\n",
    "bad_points = []\n",
    "bad_pcd_label = []\n",
    "bad_scores = np.zeros(240)\n",
    "for i in range(8):\n",
    "    bad_c_per_pcd = []\n",
    "    points = np.asarray(bad_pcds[i].points)\n",
    "    for j in range(30):\n",
    "        bad_c_per_pcd.append(points[np.random.choice(len(points),2,replace=False)].flatten())\n",
    "        bad_pcd_label.append(i+33)\n",
    "        bad_points.append(points.copy())\n",
    "    bad_conditions += bad_c_per_pcd\n",
    "bad_conditions = np.vstack(bad_conditions)\n",
    "bad_pcd_label = np.array(bad_pcd_label)\n",
    "bad_points = np.asarray(bad_points)\n",
    "print(bad_conditions.shape)\n",
    "print(bad_pcd_label.shape)\n",
    "print(bad_points.shape)"
   ]
  },
  {
   "cell_type": "code",
   "execution_count": 9,
   "metadata": {},
   "outputs": [],
   "source": [
    "np.savez(\"../score_function_data/scale/score_data_1540.npz\", scores = bad_scores, point_clouds=bad_points, point_cloud_labels=bad_pcd_label, conditions=bad_conditions)"
   ]
  }
 ],
 "metadata": {
  "kernelspec": {
   "display_name": "Python 3.8.13 ('dex')",
   "language": "python",
   "name": "python3"
  },
  "language_info": {
   "codemirror_mode": {
    "name": "ipython",
    "version": 3
   },
   "file_extension": ".py",
   "mimetype": "text/x-python",
   "name": "python",
   "nbconvert_exporter": "python",
   "pygments_lexer": "ipython3",
   "version": "3.8.13"
  },
  "orig_nbformat": 4,
  "vscode": {
   "interpreter": {
    "hash": "00b8f4a69a0ca14138cc33727ee41215cd45af553930c27cfc01041823663372"
   }
  }
 },
 "nbformat": 4,
 "nbformat_minor": 2
}
