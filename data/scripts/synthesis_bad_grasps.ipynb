{
 "cells": [
  {
   "cell_type": "code",
   "execution_count": 1,
   "metadata": {},
   "outputs": [
    {
     "name": "stdout",
     "output_type": "stream",
     "text": [
      "Jupyter environment detected. Enabling Open3D WebVisualizer.\n",
      "[Open3D INFO] WebRTC GUI backend enabled.\n",
      "[Open3D INFO] WebRTCWindowSystem: HTTP handshake server disabled.\n"
     ]
    }
   ],
   "source": [
    "import open3d as o3d\n",
    "import numpy as np\n",
    "\n",
    "def vis_grasp(grasp):\n",
    "    vis_sphere = []\n",
    "    for point in grasp:\n",
    "        sp = o3d.geometry.TriangleMesh.create_sphere(0.01)\n",
    "        sp.translate(point[:3])\n",
    "        vis_sphere.append(sp)\n",
    "    return vis_sphere"
   ]
  },
  {
   "cell_type": "code",
   "execution_count": 2,
   "metadata": {},
   "outputs": [],
   "source": [
    "cropped_pcd = o3d.io.read_point_cloud(\"../seeds/pointclouds/pose_5_pcd.ply\")\n",
    "o3d.visualization.draw_geometries([cropped_pcd])"
   ]
  },
  {
   "cell_type": "code",
   "execution_count": 3,
   "metadata": {},
   "outputs": [],
   "source": [
    "# Random pick some point as bad grasp\n",
    "points = np.asarray(cropped_pcd.points)"
   ]
  },
  {
   "cell_type": "code",
   "execution_count": 4,
   "metadata": {},
   "outputs": [],
   "source": [
    "bad_conditions = []\n",
    "for i in range(35):\n",
    "    bad_condition = points[np.random.choice(len(points), 2, replace=False)]\n",
    "    bad_conditions.append(bad_condition)"
   ]
  },
  {
   "cell_type": "code",
   "execution_count": 5,
   "metadata": {},
   "outputs": [],
   "source": [
    "def sample_neighbor(kd_tree, points, seed, radius=0.03):\n",
    "    new_points = np.zeros_like(seed)\n",
    "    for i, point in enumerate(seed):\n",
    "        indices = list(kd_tree.search_radius_vector_3d(point, radius)[1])\n",
    "        choice = np.random.choice(indices,1)\n",
    "        new_points[i] = points[choice]\n",
    "    return new_points\n",
    "\n",
    "seed = np.array([[0.15, 0, 0.05],[0.2, 0., 0]])\n",
    "kd_tree = o3d.geometry.KDTreeFlann(cropped_pcd)\n",
    "for i in range(5):\n",
    "    bad_condition = sample_neighbor(kd_tree, points, seed)\n",
    "    bad_conditions.append(bad_condition)\n",
    "bad_conditions.append(seed)\n",
    "\n",
    "for seed in bad_conditions[-6:]:\n",
    "    for i in range(5):\n",
    "        bad_condition = sample_neighbor(kd_tree, points, seed)\n",
    "        bad_conditions.append(bad_condition)\n",
    "bad_conditions = np.asarray(bad_conditions)\n",
    "bad_conditions = bad_conditions.reshape(71,-1)"
   ]
  },
  {
   "cell_type": "code",
   "execution_count": 6,
   "metadata": {},
   "outputs": [],
   "source": [
    "score_data = np.load(\"../score_function_data/new_score_data.npz\")"
   ]
  },
  {
   "cell_type": "code",
   "execution_count": 7,
   "metadata": {},
   "outputs": [],
   "source": [
    "conditions = score_data[\"conditions\"]\n",
    "scores = score_data[\"scores\"]\n",
    "pointclouds = score_data[\"point_clouds\"]\n",
    "idx = np.random.choice(len(points), 1024, replace=False)\n",
    "down_points = points[idx].reshape(1,1024,3)\n",
    "conditions = np.vstack([conditions, bad_conditions])\n",
    "scores = np.hstack([scores, np.zeros(71)])\n",
    "pointclouds = np.vstack([pointclouds]+[down_points]*71)"
   ]
  },
  {
   "cell_type": "code",
   "execution_count": 8,
   "metadata": {},
   "outputs": [
    {
     "name": "stdout",
     "output_type": "stream",
     "text": [
      "(434, 6)\n",
      "(434,)\n",
      "(434, 1024, 3)\n"
     ]
    }
   ],
   "source": [
    "print(conditions.shape)\n",
    "print(scores.shape)\n",
    "print(pointclouds.shape)"
   ]
  },
  {
   "cell_type": "code",
   "execution_count": 10,
   "metadata": {},
   "outputs": [
    {
     "data": {
      "text/plain": [
       "array([0.2, 0.2, 0.2, 0.2, 0.2, 0.2, 0.2, 0.2, 0.2, 0.2, 0.2, 0.2, 0.2,\n",
       "       0.2, 0.2, 0.7, 0.5, 0.2, 0.7, 0.7, 0.8, 0.2, 0.2, 0.5, 0.2, 0.2,\n",
       "       0.6, 0.3, 0.2, 0.2, 0.2, 0.2, 0.2, 0.2, 0.2, 0.4, 0.2, 0.2, 0.2,\n",
       "       0.2, 0.2, 0.2, 0.2, 0.2, 0.2, 0.2, 0.2, 0.2, 0.2, 0.5, 0.4, 0.7,\n",
       "       0.8, 0.2, 0.2, 0.2, 0.3, 0.2, 0.2, 0.2, 0.2, 0.2, 0.2, 0.2, 0.2,\n",
       "       0.2, 0.2, 0.2, 0.6, 0.2, 0.2, 0.2, 0.2, 0.2, 0.6, 0.4, 0.2, 0.7,\n",
       "       0.2, 0.2, 0.6, 0.7, 0.7, 0.2, 0.7, 0.7, 0.6, 0.5, 0.7, 0.3, 0.5,\n",
       "       0.4, 0.6, 0.3, 0.2, 0.7, 0.7, 0.3, 0.2, 0.2, 0.5, 0.2, 0.7, 0.7,\n",
       "       0.2, 0.2, 0.2, 0.6, 0.3, 0.6, 0.2, 0.2, 0.3, 0.7, 0.6, 0.2, 0.9,\n",
       "       0.2, 0.2, 0.6, 0.2, 0.2, 0.2, 0.5, 0.2, 0.2, 0.2, 0.2, 0.2, 0.2,\n",
       "       0.2, 0.5, 0.4, 0.2, 0.2, 0.2, 0.3, 0.4, 0.3, 0.7, 1. , 0.7, 0.7,\n",
       "       0.2, 1. , 0.2, 0.7, 0.8, 0.6, 0.2, 0.3, 0.2, 0.2, 0.2, 0.5, 0.2,\n",
       "       0.2, 0.2, 0.2, 0.2, 0.2, 0.2, 0.2, 0. , 0. , 0. , 0. , 0. , 0. ,\n",
       "       0. , 0. , 0. , 0. , 0. , 0. , 0. , 0. , 0. , 0. , 0. , 0. , 0.5,\n",
       "       0. , 0. , 0.3, 0. , 0. , 0. , 0. , 0. , 0. , 0. , 0. , 0. , 0. ,\n",
       "       0. , 0. , 0. , 0. , 0. , 0. , 0. , 0. , 0. , 0. , 0. , 0. , 0. ,\n",
       "       0. , 0. , 0. , 0. , 0. , 0.4, 0. , 0. , 0. , 0. , 0. , 0. , 0. ,\n",
       "       0. , 0. , 0. , 0. , 0. , 0. , 0. , 0. , 0.1, 0. , 0. , 0. , 0. ,\n",
       "       0. , 0. , 0. , 0. , 0. , 0. , 0. , 0. , 0. , 0.1, 0. , 0. , 0. ,\n",
       "       0. , 0. , 0.3, 0.2, 0.3, 0. , 0.4, 0. , 0. , 0.3, 0.4, 0. , 0. ,\n",
       "       0. , 0. , 0.4, 0. , 0. , 0. , 0. , 0. , 0. , 0. , 0. , 0. , 0. ,\n",
       "       0. , 0. , 0. , 0. , 0. , 0. , 0. , 0. , 0. , 0. , 0.5, 0. , 0. ,\n",
       "       0. , 0.1, 0.1, 0.4, 0.1, 0.5, 0. , 0. , 0. , 0. , 0. , 0. , 0. ,\n",
       "       0. , 0.1, 0. , 0. , 0. , 0. , 0. , 0.2, 0. , 0. , 0. , 0. , 0. ,\n",
       "       0. , 0. , 0.2, 0. , 0. , 0. , 0.2, 0. , 0. , 0. , 0. , 0. , 0. ,\n",
       "       0. , 0. , 0. , 0.1, 0. , 0.1, 0. , 0. , 0.1, 0. , 0. , 0. , 0.4,\n",
       "       0. , 0. , 0. , 0. , 0.4, 0. , 0.3, 0. , 0. , 0. , 0. , 0. , 0. ,\n",
       "       0. , 0. , 0.5, 0. , 0. , 0. , 0. , 0. , 0.3, 0. , 0. , 0. , 0. ,\n",
       "       0. , 0. , 0. , 0. , 0. , 0. , 0. , 0. , 0. , 0. , 0. , 0. , 0. ,\n",
       "       0. , 0. , 0. , 0. , 0. , 0. , 0. , 0. , 0. , 0. , 0. , 0. , 0. ,\n",
       "       0. , 0. , 0. , 0. , 0. , 0. , 0. , 0. , 0. , 0. , 0. , 0. , 0. ,\n",
       "       0. , 0. , 0. , 0. , 0. , 0. , 0. , 0. , 0. , 0. , 0. , 0. , 0. ,\n",
       "       0. , 0. , 0. , 0. , 0. , 0. , 0. , 0. , 0. , 0. , 0. , 0. , 0. ,\n",
       "       0. , 0. , 0. , 0. , 0. ])"
      ]
     },
     "execution_count": 10,
     "metadata": {},
     "output_type": "execute_result"
    }
   ],
   "source": [
    "scores[:163] += 0.2\n",
    "scores.clip(0, 1)"
   ]
  },
  {
   "cell_type": "code",
   "execution_count": 11,
   "metadata": {},
   "outputs": [],
   "source": [
    "np.savez(\"../score_function_data/score_data_augmented.npz\", scores=scores, point_clouds=pointclouds, conditions=conditions)"
   ]
  },
  {
   "cell_type": "code",
   "execution_count": null,
   "metadata": {},
   "outputs": [],
   "source": []
  }
 ],
 "metadata": {
  "kernelspec": {
   "display_name": "Python 3.8.13 ('dex_manip')",
   "language": "python",
   "name": "python3"
  },
  "language_info": {
   "codemirror_mode": {
    "name": "ipython",
    "version": 3
   },
   "file_extension": ".py",
   "mimetype": "text/x-python",
   "name": "python",
   "nbconvert_exporter": "python",
   "pygments_lexer": "ipython3",
   "version": "3.8.13"
  },
  "orig_nbformat": 4,
  "vscode": {
   "interpreter": {
    "hash": "a13924603cf124e169c00f51f55efb178979cb98f2833cd534c16d33f0a3fe3d"
   }
  }
 },
 "nbformat": 4,
 "nbformat_minor": 2
}
