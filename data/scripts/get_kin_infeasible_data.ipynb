{
 "cells": [
  {
   "cell_type": "code",
   "execution_count": 1,
   "metadata": {},
   "outputs": [],
   "source": [
    "import numpy as np\n",
    "import os"
   ]
  },
  {
   "cell_type": "code",
   "execution_count": 2,
   "metadata": {},
   "outputs": [],
   "source": [
    "object_name = \"003_cracker_box\"\n",
    "filelists = os.listdir(\"../kin_feasible/finger_tips_pose/\")\n"
   ]
  },
  {
   "cell_type": "code",
   "execution_count": 3,
   "metadata": {},
   "outputs": [],
   "source": [
    "\n",
    "for file in filelists:\n",
    "    if file.startswith(f\"{object_name}_pose_\"):\n",
    "        file_idx = int(file[-5])\n",
    "        dyn_feasible_grasps = np.load(f\"../dyn_feasible/{object_name}_textured_256/{file_idx}.npy\")\n",
    "        kin_feasible_grasps = np.load(f\"../kin_feasible/finger_tips_pose/{object_name}_pose_{file_idx}.npy\")\n",
    "        # Find common regions, id are reflected in dyn_feasible\n",
    "        common_id = []\n",
    "        for i in range(len(kin_feasible_grasps)):\n",
    "            for j in range(len(dyn_feasible_grasps)):\n",
    "                if np.max(np.abs(kin_feasible_grasps[i]-dyn_feasible_grasps[j,:,:3])) < 1e-4:\n",
    "                    common_id.append(j)\n",
    "        common_id = np.array(common_id)\n",
    "        common_mask = np.zeros(len(dyn_feasible_grasps)).astype(np.bool_)\n",
    "        common_mask[common_id] = True\n",
    "        uncommon_mask = ~common_mask\n",
    "        # Kinematically infeasible\n",
    "        kin_infeasible_grasps = dyn_feasible_grasps[uncommon_mask,:,:3]\n",
    "        sample_idx = np.random.choice(len(kin_infeasible_grasps),len(kin_feasible_grasps))\n",
    "        kin_infeasible_grasps = kin_infeasible_grasps[sample_idx]\n",
    "        print(kin_infeasible_grasps.shape, kin_feasible_grasps.shape)\n",
    "        np.save(f\"../kin_infeasible/{object_name}_pose_{file_idx}.npy\", kin_infeasible_grasps)"
   ]
  },
  {
   "cell_type": "code",
   "execution_count": 15,
   "metadata": {},
   "outputs": [],
   "source": []
  },
  {
   "cell_type": "code",
   "execution_count": null,
   "metadata": {},
   "outputs": [],
   "source": []
  }
 ],
 "metadata": {
  "kernelspec": {
   "display_name": "Python 3.8.13 ('nimble_dev')",
   "language": "python",
   "name": "python3"
  },
  "language_info": {
   "codemirror_mode": {
    "name": "ipython",
    "version": 3
   },
   "file_extension": ".py",
   "mimetype": "text/x-python",
   "name": "python",
   "nbconvert_exporter": "python",
   "pygments_lexer": "ipython3",
   "version": "3.8.13"
  },
  "orig_nbformat": 4,
  "vscode": {
   "interpreter": {
    "hash": "07c80fb706c8613e3e993fd79155accb8ca952c883d2b3c2120d0d77d7b52932"
   }
  }
 },
 "nbformat": 4,
 "nbformat_minor": 2
}
