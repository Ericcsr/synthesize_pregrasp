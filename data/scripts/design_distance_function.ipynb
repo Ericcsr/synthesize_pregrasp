{
 "cells": [
  {
   "cell_type": "code",
   "execution_count": 1,
   "metadata": {},
   "outputs": [
    {
     "name": "stdout",
     "output_type": "stream",
     "text": [
      "Jupyter environment detected. Enabling Open3D WebVisualizer.\n",
      "[Open3D INFO] WebRTC GUI backend enabled.\n",
      "[Open3D INFO] WebRTCWindowSystem: HTTP handshake server disabled.\n"
     ]
    }
   ],
   "source": [
    "import open3d as o3d\n",
    "import numpy as np\n",
    "import importlib.util\n",
    "import sys\n",
    "import transforms3d.euler as euler\n",
    "spec = importlib.util.spec_from_file_location(\"distancefield_utils\", \"../../neurals/distancefield_utils.py\")\n",
    "df_utils = importlib.util.module_from_spec(spec)\n",
    "sys.modules[\"distancefield_utils\"] = df_utils\n",
    "spec.loader.exec_module(df_utils)\n"
   ]
  },
  {
   "cell_type": "code",
   "execution_count": 2,
   "metadata": {},
   "outputs": [],
   "source": [
    "# Create dist field env and o3d object list\n",
    "laptop_env = df_utils.create_laptop_df()\n",
    "laptop_geos = [o3d.geometry.TriangleMesh.create_box(2,2,0.02).translate([-1,-1,-0.02])]\n",
    "\n",
    "x_wall_env = df_utils.create_laptop_with_x_wall_df()\n",
    "x_wall_geos = [o3d.geometry.TriangleMesh.create_box(2,2,0.02).translate([-1,-1,-0.02]),\n",
    "               o3d.geometry.TriangleMesh.create_box(2,0.02,1).translate([-1,-0.022,0])]\n",
    "\n",
    "y_wall_env = df_utils.create_laptop_with_y_wall_df()\n",
    "y_wall_geos = [o3d.geometry.TriangleMesh.create_box(2,2,0.02).translate([-1,-1,-0.02]),\n",
    "               o3d.geometry.TriangleMesh.create_box(0.02,2,1).translate([-0.022,-1,0])]\n",
    "\n",
    "table_env = df_utils.create_laptop_with_table()\n",
    "table_geos = [o3d.geometry.TriangleMesh.create_box(3, 3, 0.02).translate([-2.7, -1.5, -0.02])]\n",
    "\n",
    "bookshelf_env = df_utils.create_bookshelf_df()\n",
    "bookshelf_geos = [o3d.geometry.TriangleMesh.create_box(2,2,0.02).translate([-1,-1,-0.02]),\n",
    "                  o3d.geometry.TriangleMesh.create_box(0.4, 0.1, 0.4).translate([-0.2, -0.16, 0]),\n",
    "                  o3d.geometry.TriangleMesh.create_box(0.4, 0.1, 0.4).translate([-0.2, 0.06, 0])]\n",
    "envs = [laptop_geos, x_wall_geos, y_wall_geos, bookshelf_geos, table_geos]"
   ]
  },
  {
   "cell_type": "code",
   "execution_count": 215,
   "metadata": {},
   "outputs": [],
   "source": [
    "# Visualize the pointcloud with object pose\n",
    "roll,pitch,yaw = np.pi/2,-np.pi/2, 0\n",
    "x,y,z = 0.04,0.0,0.2\n",
    "pcd_name = \"pose_39_pcd\"\n",
    "env_id = 3\n",
    "rot_mat = euler.euler2mat(roll,pitch,yaw,axes='sxyz')\n",
    "pcd = o3d.io.read_point_cloud(f\"../seeds_scale/bad_pointclouds/{pcd_name}.ply\").rotate(rot_mat).translate([x,y,z])\n",
    "o3d.visualization.draw_geometries([pcd]+envs[env_id])"
   ]
  },
  {
   "cell_type": "code",
   "execution_count": 216,
   "metadata": {},
   "outputs": [],
   "source": [
    "# save position info\n",
    "np.savez(f\"../seeds_scale/obj_pose/{pcd_name}.npz\", trans=np.array([x,y,z]),rot=rot_mat, env_id=env_id)"
   ]
  },
  {
   "cell_type": "code",
   "execution_count": null,
   "metadata": {},
   "outputs": [],
   "source": []
  }
 ],
 "metadata": {
  "kernelspec": {
   "display_name": "Python 3.8.13 ('dex')",
   "language": "python",
   "name": "python3"
  },
  "language_info": {
   "codemirror_mode": {
    "name": "ipython",
    "version": 3
   },
   "file_extension": ".py",
   "mimetype": "text/x-python",
   "name": "python",
   "nbconvert_exporter": "python",
   "pygments_lexer": "ipython3",
   "version": "3.8.13"
  },
  "orig_nbformat": 4,
  "vscode": {
   "interpreter": {
    "hash": "00b8f4a69a0ca14138cc33727ee41215cd45af553930c27cfc01041823663372"
   }
  }
 },
 "nbformat": 4,
 "nbformat_minor": 2
}
