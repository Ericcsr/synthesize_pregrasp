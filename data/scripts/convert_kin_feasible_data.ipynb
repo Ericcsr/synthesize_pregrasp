{
 "cells": [
  {
   "cell_type": "code",
   "execution_count": 1,
   "metadata": {},
   "outputs": [],
   "source": [
    "import numpy as np\n",
    "import os"
   ]
  },
  {
   "cell_type": "code",
   "execution_count": 2,
   "metadata": {},
   "outputs": [],
   "source": [
    "filelists = os.listdir(\"../kin_feasible/\")"
   ]
  },
  {
   "cell_type": "code",
   "execution_count": 14,
   "metadata": {},
   "outputs": [],
   "source": [
    "objname = \"010_potted_meat_can\"\n",
    "for file in filelists:\n",
    "    if file.startswith(objname+\"_pose_\"):\n",
    "        kin_feasible_data = np.load(f\"../kin_feasible/{file}\", allow_pickle=True)\n",
    "        finger_tip_poses = np.zeros((len(kin_feasible_data),3,3)) # [N_data, N_finger, 3-Dofs]\n",
    "        wrist_poses = np.zeros((len(kin_feasible_data), 7))\n",
    "        for i in range(len(kin_feasible_data)):\n",
    "            finger_tip_dict = kin_feasible_data[i, 0]\n",
    "            for j,key in enumerate(finger_tip_dict.keys()):\n",
    "                finger_tip_poses[i,j] = finger_tip_dict[key][:3]\n",
    "            wrist_poses[i] = np.hstack([kin_feasible_data[i,1][0], kin_feasible_data[i,1][1]])\n",
    "        np.save(f\"../kin_feasible/finger_tips_pose/{file}\", finger_tip_poses)\n",
    "        np.save(f\"../kin_feasible/wrist_pose/{file}\", wrist_poses)"
   ]
  },
  {
   "cell_type": "code",
   "execution_count": null,
   "metadata": {},
   "outputs": [],
   "source": []
  }
 ],
 "metadata": {
  "kernelspec": {
   "display_name": "Python 3.8.13 ('nimble_dev')",
   "language": "python",
   "name": "python3"
  },
  "language_info": {
   "codemirror_mode": {
    "name": "ipython",
    "version": 3
   },
   "file_extension": ".py",
   "mimetype": "text/x-python",
   "name": "python",
   "nbconvert_exporter": "python",
   "pygments_lexer": "ipython3",
   "version": "3.8.13"
  },
  "orig_nbformat": 4,
  "vscode": {
   "interpreter": {
    "hash": "07c80fb706c8613e3e993fd79155accb8ca952c883d2b3c2120d0d77d7b52932"
   }
  }
 },
 "nbformat": 4,
 "nbformat_minor": 2
}
