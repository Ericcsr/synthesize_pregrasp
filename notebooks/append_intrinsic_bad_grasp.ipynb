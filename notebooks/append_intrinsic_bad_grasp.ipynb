{
 "cells": [
  {
   "cell_type": "code",
   "execution_count": 1,
   "metadata": {},
   "outputs": [
    {
     "name": "stdout",
     "output_type": "stream",
     "text": [
      "Jupyter environment detected. Enabling Open3D WebVisualizer.\n",
      "[Open3D INFO] WebRTC GUI backend enabled.\n",
      "[Open3D INFO] WebRTCWindowSystem: HTTP handshake server disabled.\n"
     ]
    }
   ],
   "source": [
    "import numpy as np\n",
    "import open3d as o3d"
   ]
  },
  {
   "cell_type": "code",
   "execution_count": 5,
   "metadata": {},
   "outputs": [],
   "source": [
    "pcd_8 = o3d.io.read_point_cloud(\"../data/seeds/pointclouds/pose_8_pcd.ply\")\n",
    "points = np.asarray(pcd_8.points)\n",
    "\n",
    "bad_conditions = []\n",
    "point_clouds = []\n",
    "scores = []\n",
    "point_cloud_labels = []\n",
    "\n",
    "for i in range(80):\n",
    "    bad_grasp_idx = np.random.choice(len(points), 2, replace=False)\n",
    "    bad_conditions.append(points[bad_grasp_idx].flatten())\n",
    "    scores.append(0)\n",
    "    point_cloud_labels.append(8)\n",
    "    point_clouds.append(points[np.random.choice(len(points), 1024, replace=False)])\n",
    "\n",
    "pcd_9 = o3d.io.read_point_cloud(\"../data/seeds/pointclouds/pose_9_pcd.ply\")\n",
    "points = np.asarray(pcd_9.points)\n",
    "for i in range(80):\n",
    "    bad_grasp_idx = np.random.choice(len(points), 2, replace=False)\n",
    "    bad_conditions.append(points[bad_grasp_idx].flatten())\n",
    "    scores.append(0)\n",
    "    point_cloud_labels.append(9)\n",
    "    point_clouds.append(points[np.random.choice(len(points), 1024, replace=False)])\n"
   ]
  },
  {
   "cell_type": "code",
   "execution_count": 7,
   "metadata": {},
   "outputs": [
    {
     "name": "stdout",
     "output_type": "stream",
     "text": [
      "(160,)\n",
      "(160,)\n",
      "(160, 1024, 3)\n",
      "(160, 6)\n"
     ]
    }
   ],
   "source": [
    "bad_conditions = np.asarray(bad_conditions)\n",
    "point_clouds = np.asarray(point_clouds)\n",
    "point_cloud_labels = np.asarray(point_cloud_labels)\n",
    "scores = np.asarray(scores)\n",
    "\n",
    "print(scores.shape)\n",
    "print(point_cloud_labels.shape)\n",
    "print(point_clouds.shape)\n",
    "print(bad_conditions.shape)"
   ]
  },
  {
   "cell_type": "code",
   "execution_count": 9,
   "metadata": {},
   "outputs": [
    {
     "name": "stdout",
     "output_type": "stream",
     "text": [
      "(546,)\n",
      "(546,)\n",
      "(546, 1024, 3)\n",
      "(546, 6)\n"
     ]
    }
   ],
   "source": [
    "large_latent_score = np.load(\"../data/score_function_data/large_latent_score_data.npz\")\n",
    "print(large_latent_score[\"scores\"].shape)\n",
    "print(large_latent_score[\"point_cloud_labels\"].shape)\n",
    "print(large_latent_score[\"point_clouds\"].shape)\n",
    "print(large_latent_score[\"conditions\"].shape)"
   ]
  },
  {
   "cell_type": "code",
   "execution_count": 11,
   "metadata": {},
   "outputs": [
    {
     "name": "stdout",
     "output_type": "stream",
     "text": [
      "(706,) (706,) (706, 1024, 3) (706, 6)\n"
     ]
    }
   ],
   "source": [
    "new_scores = np.hstack([large_latent_score[\"scores\"], scores])\n",
    "new_point_cloud_labels = np.hstack([large_latent_score[\"point_cloud_labels\"], point_cloud_labels])\n",
    "new_point_clouds = np.vstack([large_latent_score[\"point_clouds\"], point_clouds])\n",
    "new_conditions = np.vstack([large_latent_score[\"conditions\"], bad_conditions])\n",
    "print(new_scores.shape, new_point_cloud_labels.shape, new_point_clouds.shape, new_conditions.shape)"
   ]
  },
  {
   "cell_type": "code",
   "execution_count": 12,
   "metadata": {},
   "outputs": [],
   "source": [
    "np.savez(\"../data/score_function_data/large_score_data.npz\", \n",
    "         point_clouds=new_point_clouds,\n",
    "         conditions = new_conditions,\n",
    "         point_cloud_labels = new_point_cloud_labels,\n",
    "         scores = new_scores)"
   ]
  },
  {
   "cell_type": "code",
   "execution_count": null,
   "metadata": {},
   "outputs": [],
   "source": []
  }
 ],
 "metadata": {
  "kernelspec": {
   "display_name": "Python 3.8.13 ('dex_manip')",
   "language": "python",
   "name": "python3"
  },
  "language_info": {
   "codemirror_mode": {
    "name": "ipython",
    "version": 3
   },
   "file_extension": ".py",
   "mimetype": "text/x-python",
   "name": "python",
   "nbconvert_exporter": "python",
   "pygments_lexer": "ipython3",
   "version": "3.8.13"
  },
  "orig_nbformat": 4,
  "vscode": {
   "interpreter": {
    "hash": "a13924603cf124e169c00f51f55efb178979cb98f2833cd534c16d33f0a3fe3d"
   }
  }
 },
 "nbformat": 4,
 "nbformat_minor": 2
}
