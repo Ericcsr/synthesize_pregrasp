{
 "cells": [
  {
   "cell_type": "code",
   "execution_count": 1,
   "metadata": {},
   "outputs": [
    {
     "name": "stdout",
     "output_type": "stream",
     "text": [
      "Jupyter environment detected. Enabling Open3D WebVisualizer.\n",
      "[Open3D INFO] WebRTC GUI backend enabled.\n",
      "[Open3D INFO] WebRTCWindowSystem: HTTP handshake server disabled.\n"
     ]
    }
   ],
   "source": [
    "import open3d as o3d\n",
    "import numpy as np"
   ]
  },
  {
   "cell_type": "code",
   "execution_count": 17,
   "metadata": {},
   "outputs": [],
   "source": [
    "class SphericalCoordinate:\n",
    "    def __init__(self, mesh, origin=None):\n",
    "        self.mesh = mesh\n",
    "        self.mesh.compute_triangle_normals()\n",
    "        self.mesh.compute_vertex_normals()\n",
    "        self.pointcloud = self.mesh.sample_points_uniformly(number_of_points=20000)\n",
    "        if origin is None:\n",
    "            self.origin = self.pointcloud.get_center()\n",
    "        else:\n",
    "            self.origin = origin\n",
    "        self.pointcloud.translate(-self.origin)\n",
    "        self.points = np.asarray(self.pointcloud.points)\n",
    "        self.normals = np.asarray(self.pointcloud.normals)\n",
    "        self.kd_tree = o3d.geometry.KDTreeFlann(self.pointcloud)\n",
    "        \n",
    "    def compute_batch_cos_similarity(self,vec):\n",
    "        points = self.points.copy()\n",
    "        points[:,0] *= vec[0]\n",
    "        points[:,1] *= vec[1]\n",
    "        points[:,2] *= vec[2]\n",
    "        dot_points = points.sum(axis=1)\n",
    "        points_norm = np.linalg.norm(vec) * np.linalg.norm(self.points, axis=1)\n",
    "        return dot_points/points_norm\n",
    "\n",
    "    def get(self, theta, phi):\n",
    "        # Need to get the closest point from center to the shell.\n",
    "        dir_vec = np.array([np.sin(phi)*np.cos(theta), np.sin(phi) * np.sin(theta), np.cos(phi)])\n",
    "        cos_sim = self.compute_batch_cos_similarity(dir_vec)\n",
    "        index = cos_sim.argmax()\n",
    "        return self.points[index], self.normals[index]\n",
    "\n",
    "    def get_wrapped(self, theta, x1):\n",
    "        phi = np.arccos(x1)\n",
    "        return self.get(theta, phi)\n",
    "\n",
    "    def cartesian2spherical(self, points):\n",
    "        # get rid of offset\n",
    "        points[:,0] -= self.origin[0]\n",
    "        points[:,1] -= self.origin[1]\n",
    "        points[:,2] -= self.origin[2]\n",
    "        sp_coord = np.zeros((len(points), 2))\n",
    "        sp_coord[:,0] = np.arctan2(points[:,1], points[:,0]) # theta\n",
    "        sp_coord[:,1] = np.arccos(points[:,2]/np.linalg.norm(points,axis=1)) # psi\n",
    "        return sp_coord\n",
    "\n",
    "def project2sphere(sp_coord, color=[0.5, 0.5, 0.5], scale=0.05):\n",
    "    cart_coord = np.zeros((len(sp_coord), 3))\n",
    "    cart_coord[:,0] = np.sin(sp_coord[:,1]) * np.cos(sp_coord[:,0])\n",
    "    cart_coord[:,1] = np.sin(sp_coord[:,1]) * np.sin(sp_coord[:,0])\n",
    "    cart_coord[:,2] = np.cos(sp_coord[:,1])\n",
    "    cart_coord *= scale\n",
    "    pcd = o3d.geometry.PointCloud()\n",
    "    color = np.array(color)\n",
    "    pcd.points = o3d.utility.Vector3dVector(cart_coord)\n",
    "    pcd.colors = o3d.utility.Vector3dVector(np.tile(color, len(sp_coord)).reshape(-1,3))\n",
    "    return cart_coord, pcd"
   ]
  },
  {
   "cell_type": "code",
   "execution_count": 18,
   "metadata": {},
   "outputs": [],
   "source": [
    "# create mesh block\n",
    "mesh_box = o3d.geometry.TriangleMesh.create_box(0.4, 0.4, 0.1)\n",
    "mesh_box.translate([-0.2, -0.2, -0.05])\n",
    "point_box = mesh_box.sample_points_uniformly(number_of_points=20000)\n",
    "point_box.colors = o3d.utility.Vector3dVector(np.ones((20000, 3)) * 0.6)"
   ]
  },
  {
   "cell_type": "code",
   "execution_count": 19,
   "metadata": {},
   "outputs": [],
   "source": [
    "box = SphericalCoordinate(mesh_box)"
   ]
  },
  {
   "cell_type": "code",
   "execution_count": 20,
   "metadata": {},
   "outputs": [],
   "source": [
    "# visualize on a unit sphere\n",
    "finger_region = np.load(\"../data/pcd_region/pcd_fingertip.npz\")\n",
    "thumb_points = finger_region['thumb']\n",
    "index_points = finger_region['index']\n",
    "middle_points = finger_region['middle']\n",
    "ring_points = finger_region['ring']"
   ]
  },
  {
   "cell_type": "code",
   "execution_count": 21,
   "metadata": {},
   "outputs": [],
   "source": [
    "_, thumb_pcd = project2sphere(box.cartesian2spherical(thumb_points), color=[0,0,0])\n",
    "_, index_pcd = project2sphere(box.cartesian2spherical(index_points), color=[1,0,0])\n",
    "_, middle_pcd = project2sphere(box.cartesian2spherical(middle_points), color=[0,1,0])\n",
    "_, ring_pcd = project2sphere(box.cartesian2spherical(ring_points), color=[0,0,1])"
   ]
  },
  {
   "cell_type": "code",
   "execution_count": 22,
   "metadata": {},
   "outputs": [],
   "source": [
    "ref_sphere = o3d.geometry.TriangleMesh.create_sphere(0.05)\n",
    "o3d.visualization.draw_geometries([point_box, ref_sphere, thumb_pcd, index_pcd, middle_pcd, ring_pcd])"
   ]
  },
  {
   "cell_type": "code",
   "execution_count": 8,
   "metadata": {},
   "outputs": [
    {
     "data": {
      "text/plain": [
       "array([[ 0.20040162,  0.07369438, -0.00342802],\n",
       "       [ 0.20040162,  0.15738069, -0.01726806],\n",
       "       [ 0.20040162,  0.10091833,  0.00041782],\n",
       "       ...,\n",
       "       [ 0.0666762 ,  0.12571196, -0.05003288],\n",
       "       [ 0.05517007,  0.09154843, -0.05003288],\n",
       "       [ 0.13945832,  0.15882543, -0.05003288]])"
      ]
     },
     "execution_count": 8,
     "metadata": {},
     "output_type": "execute_result"
    }
   ],
   "source": [
    "index_points"
   ]
  },
  {
   "cell_type": "code",
   "execution_count": 11,
   "metadata": {},
   "outputs": [
    {
     "data": {
      "text/plain": [
       "array([[ 0.20080324,  0.07508622, -0.0034609 ],\n",
       "       [ 0.20080324,  0.15877253, -0.01730094],\n",
       "       [ 0.20080324,  0.10231016,  0.00038494],\n",
       "       ...,\n",
       "       [ 0.06707782,  0.1271038 , -0.05006575],\n",
       "       [ 0.0555717 ,  0.09294027, -0.05006575],\n",
       "       [ 0.13985994,  0.16021726, -0.05006575]])"
      ]
     },
     "execution_count": 11,
     "metadata": {},
     "output_type": "execute_result"
    }
   ],
   "source": [
    "middle_points"
   ]
  },
  {
   "cell_type": "code",
   "execution_count": null,
   "metadata": {},
   "outputs": [],
   "source": []
  }
 ],
 "metadata": {
  "kernelspec": {
   "display_name": "Python 3.8.13 ('dexterous_manip')",
   "language": "python",
   "name": "python3"
  },
  "language_info": {
   "codemirror_mode": {
    "name": "ipython",
    "version": 3
   },
   "file_extension": ".py",
   "mimetype": "text/x-python",
   "name": "python",
   "nbconvert_exporter": "python",
   "pygments_lexer": "ipython3",
   "version": "3.8.13"
  },
  "orig_nbformat": 4,
  "vscode": {
   "interpreter": {
    "hash": "81451b0c9e9d01681acac6b850b9c6b4c0f7c09b9cc0b0a97418cb2e4256d83e"
   }
  }
 },
 "nbformat": 4,
 "nbformat_minor": 2
}
