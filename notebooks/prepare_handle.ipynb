{
 "cells": [
  {
   "cell_type": "code",
   "execution_count": 1,
   "metadata": {},
   "outputs": [
    {
     "name": "stderr",
     "output_type": "stream",
     "text": [
      "pybullet build time: May 20 2022 19:44:17\n"
     ]
    },
    {
     "name": "stdout",
     "output_type": "stream",
     "text": [
      "Jupyter environment detected. Enabling Open3D WebVisualizer.\n",
      "[Open3D INFO] WebRTC GUI backend enabled.\n",
      "[Open3D INFO] WebRTCWindowSystem: HTTP handshake server disabled.\n",
      "startThreads creating 1 threads.\n",
      "starting thread 0\n",
      "started thread 0 \n",
      "argc=2\n",
      "argv[0] = --unused\n",
      "argv[1] = --start_demo_name=Physics Server\n",
      "ExampleBrowserThreadFunc started\n",
      "X11 functions dynamically loaded using dlopen/dlsym OK!\n",
      "X11 functions dynamically loaded using dlopen/dlsym OK!\n",
      "Creating context\n",
      "Created GL 3.3 context\n",
      "Direct GLX rendering context obtained\n",
      "Making context current\n",
      "GL_VENDOR=NVIDIA Corporation\n",
      "GL_RENDERER=NVIDIA GeForce RTX 2080/PCIe/SSE2\n",
      "GL_VERSION=3.3.0 NVIDIA 510.85.02\n",
      "GL_SHADING_LANGUAGE_VERSION=3.30 NVIDIA via Cg compiler\n",
      "pthread_getconcurrency()=0\n",
      "Version = 3.3.0 NVIDIA 510.85.02\n",
      "Vendor = NVIDIA Corporation\n",
      "Renderer = NVIDIA GeForce RTX 2080/PCIe/SSE2\n",
      "b3Printf: Selected demo: Physics Server\n",
      "startThreads creating 1 threads.\n",
      "starting thread 0\n",
      "started thread 0 \n",
      "MotionThreadFunc thread started\n",
      "ven = NVIDIA Corporation\n"
     ]
    },
    {
     "data": {
      "text/plain": [
       "0"
      ]
     },
     "execution_count": 1,
     "metadata": {},
     "output_type": "execute_result"
    },
    {
     "name": "stdout",
     "output_type": "stream",
     "text": [
      "ven = NVIDIA Corporation\n"
     ]
    }
   ],
   "source": [
    "import os\n",
    "import pybullet as p\n",
    "import open3d as o3d\n",
    "import numpy as np\n",
    "import copy\n",
    "p.connect(p.GUI)"
   ]
  },
  {
   "cell_type": "code",
   "execution_count": 2,
   "metadata": {},
   "outputs": [],
   "source": [
    "def create_handle(alpha=0.8):\n",
    "    floor_id = p.loadURDF(\"../envs/assets/plane.urdf\", useFixedBase=True)\n",
    "    init_xyz = np.array([0.145,0.0,0.0])\n",
    "    shell_id = p.loadURDF(\"../envs/assets/handle_shell.urdf\",basePosition=init_xyz,useFixedBase=True)\n",
    "    init_xyz = np.array([0.1,0.0,0.0])\n",
    "    o_id = p.loadURDF(\"../envs/assets/handle.urdf\",basePosition=init_xyz,useFixedBase=True)\n",
    "    return o_id\n",
    "\n",
    "# For deocclusion\n",
    "aabb = o3d.geometry.AxisAlignedBoundingBox(min_bound=np.array([-100, -0.1, 0.005]),\n",
    "                                                        max_bound=np.array([0.095, 0.1, 100]))\n"
   ]
  },
  {
   "cell_type": "code",
   "execution_count": 3,
   "metadata": {},
   "outputs": [],
   "source": [
    "o_id = create_handle()\n",
    "mesh = o3d.io.read_triangle_mesh(\"../envs/assets/handle.obj\")\n",
    "mesh.compute_triangle_normals()\n",
    "mesh.compute_vertex_normals()\n",
    "pcd = mesh.sample_points_poisson_disk(2048, use_triangle_normal=True)\n",
    "sp = o3d.geometry.TriangleMesh.create_sphere(0.01)"
   ]
  },
  {
   "cell_type": "code",
   "execution_count": 4,
   "metadata": {},
   "outputs": [],
   "source": [
    "o3d.visualization.draw_geometries([pcd, sp])"
   ]
  },
  {
   "cell_type": "code",
   "execution_count": 5,
   "metadata": {},
   "outputs": [],
   "source": [
    "theta = -np.pi/2\n",
    "rot_mat = np.array([[np.cos(theta), 0, np.sin(theta)],\n",
    "                    [0, 1, 0],\n",
    "                    [-np.sin(theta), 0, np.cos(theta)]])"
   ]
  },
  {
   "cell_type": "code",
   "execution_count": 6,
   "metadata": {},
   "outputs": [
    {
     "data": {
      "text/plain": [
       "PointCloud with 2048 points."
      ]
     },
     "execution_count": 6,
     "metadata": {},
     "output_type": "execute_result"
    }
   ],
   "source": [
    "pcd.rotate(rot_mat, center=[0,0,0])"
   ]
  },
  {
   "cell_type": "code",
   "execution_count": 7,
   "metadata": {},
   "outputs": [
    {
     "data": {
      "text/plain": [
       "PointCloud with 1545 points."
      ]
     },
     "execution_count": 7,
     "metadata": {},
     "output_type": "execute_result"
    }
   ],
   "source": [
    "cropped_pcd = copy.deepcopy(pcd).crop(aabb)\n",
    "cropped_pcd.rotate(rot_mat.T, center=[0,0,0])"
   ]
  },
  {
   "cell_type": "code",
   "execution_count": 8,
   "metadata": {},
   "outputs": [],
   "source": [
    "o3d.visualization.draw_geometries([cropped_pcd, sp])"
   ]
  },
  {
   "cell_type": "code",
   "execution_count": 9,
   "metadata": {},
   "outputs": [
    {
     "data": {
      "text/plain": [
       "True"
      ]
     },
     "execution_count": 9,
     "metadata": {},
     "output_type": "execute_result"
    }
   ],
   "source": [
    "o3d.io.write_point_cloud(\"pose_10_pcd.ply\", cropped_pcd)"
   ]
  },
  {
   "cell_type": "code",
   "execution_count": 11,
   "metadata": {},
   "outputs": [
    {
     "name": "stdout",
     "output_type": "stream",
     "text": [
      "[Open3D INFO] Clearing all points from selection.\n",
      "[Open3D INFO] Adding point #497 (0.05, -0.01, 0.02) to selection.\n",
      "[Open3D INFO] Adding point #1252 (0.10, 0.05, 0.02) to selection.\n",
      "[Open3D INFO] Adding point #1371 (0.10, 0.03, 0.02) to selection.\n",
      "[Open3D INFO] Removing point #1371 from selection.\n",
      "[Open3D INFO] Adding point #1322 (0.10, 0.02, 0.02) to selection.\n",
      "[Open3D INFO] Adding point #1269 (0.10, -0.00, 0.02) to selection.\n",
      "[Open3D INFO] Adding point #1488 (0.10, -0.04, 0.02) to selection.\n"
     ]
    }
   ],
   "source": [
    "o3d.visualization.draw_geometries_with_vertex_selection([cropped_pcd])"
   ]
  },
  {
   "cell_type": "code",
   "execution_count": 14,
   "metadata": {},
   "outputs": [],
   "source": [
    "points = np.asarray(cropped_pcd.points)\n",
    "normals = np.asarray(cropped_pcd.normals)\n",
    "tip_pos = np.array([points[497], points[1252], points[1322], points[1269], points[1488]])\n",
    "normals = np.array([normals[497], normals[1252], normals[1322], normals[1269], normals[1488]])\n",
    "grasp = np.hstack([tip_pos, normals])"
   ]
  },
  {
   "cell_type": "code",
   "execution_count": 15,
   "metadata": {},
   "outputs": [],
   "source": [
    "sps = []\n",
    "for i in range(5):\n",
    "    sp = o3d.geometry.TriangleMesh.create_sphere(0.01)\n",
    "    sp.translate(grasp[i,:3])\n",
    "    sps.append(sp)"
   ]
  },
  {
   "cell_type": "code",
   "execution_count": 16,
   "metadata": {},
   "outputs": [],
   "source": [
    "o3d.visualization.draw_geometries([cropped_pcd]+sps)"
   ]
  },
  {
   "cell_type": "code",
   "execution_count": 17,
   "metadata": {},
   "outputs": [
    {
     "ename": "",
     "evalue": "",
     "output_type": "error",
     "traceback": [
      "\u001b[1;31mThe Kernel crashed while executing code in the the current cell or a previous cell. Please review the code in the cell(s) to identify a possible cause of the failure. Click <a href='https://aka.ms/vscodeJupyterKernelCrash'>here</a> for more info. View Jupyter <a href='command:jupyter.viewOutput'>log</a> for further details."
     ]
    }
   ],
   "source": [
    "np.save(\"pose_10.npy\", grasp)"
   ]
  },
  {
   "cell_type": "code",
   "execution_count": null,
   "metadata": {},
   "outputs": [],
   "source": []
  }
 ],
 "metadata": {
  "kernelspec": {
   "display_name": "Python 3.8.13 ('dex')",
   "language": "python",
   "name": "python3"
  },
  "language_info": {
   "codemirror_mode": {
    "name": "ipython",
    "version": 3
   },
   "file_extension": ".py",
   "mimetype": "text/x-python",
   "name": "python",
   "nbconvert_exporter": "python",
   "pygments_lexer": "ipython3",
   "version": "3.8.13"
  },
  "orig_nbformat": 4,
  "vscode": {
   "interpreter": {
    "hash": "00b8f4a69a0ca14138cc33727ee41215cd45af553930c27cfc01041823663372"
   }
  }
 },
 "nbformat": 4,
 "nbformat_minor": 2
}
