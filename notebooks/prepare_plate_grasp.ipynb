{
 "cells": [
  {
   "cell_type": "code",
   "execution_count": 1,
   "metadata": {},
   "outputs": [
    {
     "name": "stdout",
     "output_type": "stream",
     "text": [
      "Jupyter environment detected. Enabling Open3D WebVisualizer.\n",
      "[Open3D INFO] WebRTC GUI backend enabled.\n",
      "[Open3D INFO] WebRTCWindowSystem: HTTP handshake server disabled.\n"
     ]
    }
   ],
   "source": [
    "import open3d as o3d\n",
    "import numpy as np"
   ]
  },
  {
   "cell_type": "code",
   "execution_count": 2,
   "metadata": {},
   "outputs": [],
   "source": [
    "colors = [[0.8,0,0],[0,0.8,0],[0,0,0.8],[0,0.8,0.8],[0.8,0.8,0.8]]\n",
    "def get_vis_tip(grasps):\n",
    "    vis_sps = []\n",
    "    for i in range(len(grasps)):\n",
    "        vis_sp = o3d.geometry.TriangleMesh.create_sphere(0.01)\n",
    "        vis_sp.paint_uniform_color(colors[i])\n",
    "        vis_sp.translate(grasps[i,:3])\n",
    "        vis_sps.append(vis_sp)\n",
    "    return vis_sps\n",
    "\n",
    "def project_grasp(tip_poses,kd_tree, points, normals):\n",
    "    grasps = []\n",
    "    for i, tip_pose in enumerate(tip_poses):\n",
    "        idx = kd_tree.search_knn_vector_3d(tip_pose, 1)[1]\n",
    "        grasp = np.hstack([points[idx], normals[idx]])\n",
    "        grasps.append(grasp)\n",
    "    return grasps"
   ]
  },
  {
   "cell_type": "code",
   "execution_count": 3,
   "metadata": {},
   "outputs": [],
   "source": [
    "plate_mesh = o3d.io.read_triangle_mesh(\"../envs/assets/plate_cvx.ply\")\n",
    "plate_mesh.compute_vertex_normals()\n",
    "plate_mesh.compute_triangle_normals()\n",
    "plate_pcd = plate_mesh.sample_points_poisson_disk(2048, use_triangle_normal=True)\n",
    "kd_tree = o3d.geometry.KDTreeFlann(plate_pcd)\n",
    "points = np.asarray(plate_pcd.points)\n",
    "normals = np.asarray(plate_pcd.normals)"
   ]
  },
  {
   "cell_type": "code",
   "execution_count": 12,
   "metadata": {},
   "outputs": [
    {
     "name": "stdout",
     "output_type": "stream",
     "text": [
      "[Open3D INFO] Clearing all points from selection.\n",
      "[Open3D INFO] Adding point #1275 (0.11, -0.01, 0.02) to selection.\n",
      "[Open3D INFO] No points have been picked.\n",
      "[Open3D INFO] Adding point #1400 (0.10, 0.00, 0.01) to selection.\n",
      "[Open3D INFO] Adding point #865 (0.10, -0.01, 0.01) to selection.\n",
      "[Open3D INFO] Adding point #1107 (0.10, -0.03, 0.01) to selection.\n",
      "[Open3D INFO] Adding point #771 (0.10, -0.05, 0.02) to selection.\n"
     ]
    }
   ],
   "source": [
    "o3d.visualization.draw_geometries_with_vertex_selection([plate_pcd])"
   ]
  },
  {
   "cell_type": "code",
   "execution_count": 14,
   "metadata": {},
   "outputs": [],
   "source": [
    "ps = np.vstack([np.array([[0.11693159157663433, -0.0010921809379487205, 0.03147002839388472],[0.11639388645545473, 0.018195489236448273, 0.012567558375736702]]),points[[865,1107,771]]])\n",
    "ns = normals[[1275, 1400, 865, 1107, 771]]\n",
    "grasp = np.hstack([ps,ns])"
   ]
  },
  {
   "cell_type": "code",
   "execution_count": 15,
   "metadata": {},
   "outputs": [],
   "source": [
    "vis_tips = get_vis_tip(grasp)\n",
    "o3d.visualization.draw_geometries([plate_pcd]+vis_tips)"
   ]
  },
  {
   "cell_type": "code",
   "execution_count": 24,
   "metadata": {},
   "outputs": [
    {
     "data": {
      "text/plain": [
       "True"
      ]
     },
     "execution_count": 24,
     "metadata": {},
     "output_type": "execute_result"
    }
   ],
   "source": [
    "o3d.io.write_point_cloud(\"pose_9.ply\",plate_pcd)"
   ]
  },
  {
   "cell_type": "code",
   "execution_count": 27,
   "metadata": {},
   "outputs": [],
   "source": [
    "grasp = grasp.reshape(1,5,6)"
   ]
  },
  {
   "cell_type": "code",
   "execution_count": 16,
   "metadata": {},
   "outputs": [],
   "source": [
    "np.save(\"../data/seeds_plate/grasps/pose_9.npy\",grasp.reshape(1,5,6))\n",
    "np.save(\"../data/predicted_grasps/debug_50.0.npy\",grasp)"
   ]
  },
  {
   "cell_type": "code",
   "execution_count": null,
   "metadata": {},
   "outputs": [],
   "source": []
  }
 ],
 "metadata": {
  "kernelspec": {
   "display_name": "Python 3.8.13 ('dex')",
   "language": "python",
   "name": "python3"
  },
  "language_info": {
   "codemirror_mode": {
    "name": "ipython",
    "version": 3
   },
   "file_extension": ".py",
   "mimetype": "text/x-python",
   "name": "python",
   "nbconvert_exporter": "python",
   "pygments_lexer": "ipython3",
   "version": "3.8.13"
  },
  "orig_nbformat": 4,
  "vscode": {
   "interpreter": {
    "hash": "00b8f4a69a0ca14138cc33727ee41215cd45af553930c27cfc01041823663372"
   }
  }
 },
 "nbformat": 4,
 "nbformat_minor": 2
}
