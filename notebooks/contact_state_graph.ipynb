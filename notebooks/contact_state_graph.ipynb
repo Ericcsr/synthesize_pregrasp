{
 "cells": [
  {
   "cell_type": "code",
   "execution_count": 2,
   "metadata": {},
   "outputs": [
    {
     "name": "stdout",
     "output_type": "stream",
     "text": [
      "Jupyter environment detected. Enabling Open3D WebVisualizer.\n",
      "[Open3D INFO] WebRTC GUI backend enabled.\n",
      "[Open3D INFO] WebRTCWindowSystem: HTTP handshake server disabled.\n"
     ]
    }
   ],
   "source": [
    "import numpy as np\n",
    "import open3d as o3d\n",
    "import copy\n",
    "# Currently assume a feasible contact state must have at least a region for each finger\n",
    "# Currently region can be defined by number\n",
    "# Finger order: 0:thumb 1:index 2:middle 3:ring hence region [2,6,3,7]\n",
    "# Need a mechanism that parse the region id to region a function input is action + region id output is finger tip pose. each object should have a unique action parser\n",
    "\n",
    "class ContactStateGraph:\n",
    "    def __init__(self, states):\n",
    "        \"\"\"\n",
    "        states: np.array of region id\n",
    "        \"\"\"\n",
    "        self.states = states\n",
    "        self.state_ids = list(range(len(self.states)))\n",
    "        self.graph_adj_list = self.build_graph(self.states, self.state_ids)\n",
    "\n",
    "    # Represent the graph as adjacency list, each entry should have number indicating edge type\n",
    "    def build_graph(self, states, state_ids):\n",
    "        # initialize adjacency list\n",
    "        graph_adj_list = {}\n",
    "            \n",
    "        # Build the list\n",
    "        for i in range(len(self.state_ids)):\n",
    "            i_id = state_ids[i]\n",
    "            graph_adj_list[i_id] = []\n",
    "            for j in range(len(state_ids)):\n",
    "                j_id = state_ids[j]\n",
    "                common_regions = (states[i_id] == states[j_id])\n",
    "                num_common_regions = common_regions.sum()\n",
    "                if num_common_regions != 0:\n",
    "                    graph_adj_list[i_id].append((j_id, common_regions, num_common_regions))\n",
    "        return graph_adj_list\n",
    "\n",
    "    def getNeighbors(self,state_id):\n",
    "        return self.graph_adj_list[state_id]\n",
    "\n",
    "    def getState(self, state_id):\n",
    "        return self.states[state_id]\n",
    "\n",
    "    def getPathFromState(self,state_id, steps):\n",
    "        self.paths = []\n",
    "        self.weights = []\n",
    "        self._getPathFromState(state_id, steps)\n",
    "        return self.paths, self.weights\n",
    "    # return all paths as well as their weights (absolute) maybe recursive?\n",
    "    def _getPathFromState(self, state_id, steps, total_weight=1, current_path=[]):\n",
    "        neighbors = self.getNeighbors(state_id)\n",
    "        weights = np.array([n[2] for n in neighbors])\n",
    "        weights = weights/weights.sum()\n",
    "        current_path.append(state_id)\n",
    "        for i,neighbor in enumerate(neighbors):\n",
    "            if steps != 1:\n",
    "                self._getPathFromState(neighbor[0],steps-1, total_weight*weights[i], current_path=copy.deepcopy(current_path))\n",
    "            else:\n",
    "                self.paths.append(current_path+[neighbor[0]])\n",
    "                self.weights.append(total_weight*weights[i]) # Final weights\n"
   ]
  },
  {
   "cell_type": "code",
   "execution_count": 3,
   "metadata": {},
   "outputs": [],
   "source": [
    "# Assume we have 8 region\n",
    "states = []\n",
    "states.append(np.array([5, 27, 26, 25]))\n",
    "states.append(np.array([5, 30, 29, 28]))\n",
    "states.append(np.array([5, 16, 17, 18]))\n",
    "states.append(np.array([8, 27, 26, 25]))\n",
    "states.append(np.array([8, 30, 29, 28]))\n",
    "states.append(np.array([8, 16, 17, 18]))\n",
    "\n",
    "\n",
    "# states.append(np.array([5, 23, 26, 29]))\n",
    "# states.append(np.array([5, 25, 26, 27]))\n",
    "# states.append(np.array([5, 29, 26, 23]))\n",
    "# states.append(np.array([26, 4, 5, 6]))\n",
    "# states.append(np.array([26, 8, 5, 2]))\n",
    "# states.append(np.array([26, 6, 5, 4]))\n",
    "# states.append(np.array([26, 2, 5, 8]))\n",
    "np.save(\"../data/contact_states/laptop_env/dummy_states_2.npy\", states)"
   ]
  },
  {
   "cell_type": "code",
   "execution_count": 3,
   "metadata": {},
   "outputs": [],
   "source": [
    "s = 0.2 - 0.4/3\n",
    "regions = np.array([[-0.2, -s, -0.2, -s, 0.05, 0.05],\n",
    "                    [-0.2, -s, -s, s, 0.05, 0.05],\n",
    "                    [-0.2, -s, s, 0.2, 0.05, 0.05],\n",
    "                    [-s, s, -0.2, -s, 0.05, 0.05],\n",
    "                    [-s, s, -s, s, 0.05, 0.05],\n",
    "                    [-s, s, s, 0.2, 0.05, 0.05],\n",
    "                                 [s, 0.2, -0.2, -s, 0.05, 0.05],\n",
    "                                 [s, 0.2, -s, s, 0.05, 0.05],\n",
    "                                 [s, 0.2, s, 0.2, 0.05, 0.05],\n",
    "                                 [-0.2, -0.2, -0.2, -s, -0.05, 0.05],\n",
    "                                 [-0.2, -0.2, -s, s, -0.05, 0.05],\n",
    "                                 [-0.2, -0.2, s, 0.2, -0.05, 0.05],\n",
    "                                 [-0.2, -s, 0.2, 0.2, -0.05, 0.05],\n",
    "                                 [-s, s, 0.2, 0.2, -0.05, 0.05],\n",
    "                                 [s, 0.2, 0.2, 0.2, -0.05, 0.05],\n",
    "                                 [0.2, 0.2, s, 0.2, -0.05, 0.05],\n",
    "                                 [0.2, 0.2, -s, s, -0.05, 0.05],\n",
    "                                 [0.2, 0.2, -0.2, -s, -0.05, 0.05],\n",
    "                                 [s, 0.2, -0.2, -0.2, -0.05, 0.05],\n",
    "                                 [-s, s, -0.2, -0.2, -0.05, 0.05],\n",
    "                                 [-0.2, -s, -0.2, -0.2, -0.05, 0.05],\n",
    "                                 [-0.2, -s, -0.2, -s, -0.05, -0.05],\n",
    "                                 [-0.2, -s, -s, s, -0.05, -0.05],\n",
    "                                 [-0.2, -s, s, 0.2, -0.05, -0.05],\n",
    "                                 [-s, s, -0.2, -s, -0.05, -0.05],\n",
    "                                 [-s, s, -s, s, -0.05, -0.05],\n",
    "                                 [-s, s, s, 0.2, -0.05, -0.05],\n",
    "                                 [s, 0.2, -0.2, -s, -0.05, -0.05],\n",
    "                                 [s, 0.2, -s, s, -0.05, -0.05],\n",
    "                                 [s, 0.2, s, 0.2, -0.05, -0.05]])\n",
    "fixed_axes = np.array([2,2,2,2,2,2,2,2,2,0,0,0,1,1,1,0,0,0,1,1,1,2,2,2,2,2,2,2,2,2])\n",
    "surface_norm = np.array([[0., 0., 1.],\n",
    "                         [0., 0., 1.],\n",
    "                         [0., 0., 1.],\n",
    "                         [0., 0., 1.],\n",
    "                         [0., 0., 1.],\n",
    "                         [0., 0., 1.],\n",
    "                         [0., 0., 1.],\n",
    "                         [0., 0., 1.],\n",
    "                         [0., 0., 1.],\n",
    "                         [-1, 0., 0.],\n",
    "                         [-1, 0., 0.],\n",
    "                         [-1, 0., 0.],\n",
    "                         [0., 1., 0.],\n",
    "                         [0., 1., 0.],\n",
    "                         [0., 1., 0.],\n",
    "                         [1., 0., 0.],\n",
    "                         [1., 0., 0.],\n",
    "                         [1., 0., 0.],\n",
    "                         [0., -1, 0.],\n",
    "                         [0., -1, 0.],\n",
    "                         [0., -1, 0.],\n",
    "                         [0., 0., -1],\n",
    "                         [0., 0., -1],\n",
    "                         [0., 0., -1],\n",
    "                         [0., 0., -1],\n",
    "                         [0., 0., -1],\n",
    "                         [0., 0., -1],\n",
    "                         [0., 0., -1],\n",
    "                         [0., 0., -1],\n",
    "                         [0., 0., -1]])\n",
    "np.savez(\"../data/regions/small_block_dummy_region.npz\", regions=regions, fixed_axes=fixed_axes, surface_norm=surface_norm)"
   ]
  },
  {
   "cell_type": "code",
   "execution_count": 30,
   "metadata": {},
   "outputs": [],
   "source": [
    "class SmallBlockRegionDummy:\n",
    "    def __init__(self, contact_state_graph):\n",
    "        self.x_range = [-0.2, 0.2]\n",
    "        self.y_range = [-0.2, 0.2]\n",
    "        self.z_range = [-0.05, 0.05]\n",
    "        self.csg = contact_state_graph\n",
    "        region_data = np.load(\"../data/regions/small_block_dummy_region.npz\")\n",
    "        self.regions = region_data[\"regions\"]\n",
    "        self.fixed_axis = region_data[\"fixed_axes\"]\n",
    "\n",
    "    def parse_action(self, state_id, action):\n",
    "        \"\"\"\n",
    "        state_id: int id of contact state\n",
    "        action: np.ndarray[4,2] each element is bounded within [-1,1]\n",
    "        \"\"\"\n",
    "        state = self.csg.getState(state_id)-1 # Region ID\n",
    "        print(state)\n",
    "        finger_regions = self.regions[state]\n",
    "        fixed_axes = self.fixed_axis[state]\n",
    "        print(finger_regions)\n",
    "        print(fixed_axes)\n",
    "        scaled_action = (action+1) * 0.5 # Mapped to [0, 1]\n",
    "        finger_tip_pos = []\n",
    "\n",
    "        for i,region in enumerate(finger_regions):\n",
    "            sub_a = scaled_action[i]\n",
    "            fixed_axis = fixed_axes[i]\n",
    "            if fixed_axis == 0:\n",
    "                x = region[0]\n",
    "                y_range = region[3] - region[2]\n",
    "                y_start = region[2]\n",
    "                y = y_range * sub_a[0] + y_start\n",
    "                z_range = region[5] - region[4]\n",
    "                z_start = region[4]\n",
    "                z = z_range * sub_a[1] + z_start\n",
    "            elif fixed_axis == 1:\n",
    "                x_range = region[1] - region[0]\n",
    "                x_start = region[0]\n",
    "                x = x_range * sub_a[0] + x_start\n",
    "                y = region[2]\n",
    "                z_range = region[5] - region[4]\n",
    "                z_start = region[4]\n",
    "                z = x_range * sub_a[1] + z_start\n",
    "            else:\n",
    "                x_range = region[1] - region[0]\n",
    "                x_start = region[0]\n",
    "                x = x_range * sub_a[0] + x_start\n",
    "                y_range = region[3] - region[2]\n",
    "                y_start = region[2]\n",
    "                y = y_range * sub_a[0] + y_start\n",
    "                z = region[4]\n",
    "            finger_tip_pos.append(np.array([x,y,z]))\n",
    "        return finger_tip_pos"
   ]
  },
  {
   "cell_type": "code",
   "execution_count": 31,
   "metadata": {},
   "outputs": [],
   "source": [
    "dummy_region = SmallBlockRegionDummy(csg)"
   ]
  },
  {
   "cell_type": "code",
   "execution_count": 32,
   "metadata": {},
   "outputs": [
    {
     "name": "stdout",
     "output_type": "stream",
     "text": [
      "[ 4 26 25 24]\n",
      "[[-0.06666667  0.06666667 -0.06666667  0.06666667  0.05        0.05      ]\n",
      " [-0.06666667  0.06666667  0.06666667  0.2        -0.05       -0.05      ]\n",
      " [-0.06666667  0.06666667 -0.06666667  0.06666667 -0.05       -0.05      ]\n",
      " [-0.06666667  0.06666667 -0.2        -0.06666667 -0.05       -0.05      ]]\n",
      "[2 2 2 2]\n"
     ]
    },
    {
     "data": {
      "text/plain": [
       "[array([0.  , 0.  , 0.05]),\n",
       " array([ 0.        ,  0.13333333, -0.05      ]),\n",
       " array([ 0.  ,  0.  , -0.05]),\n",
       " array([ 0.        , -0.13333333, -0.05      ])]"
      ]
     },
     "execution_count": 32,
     "metadata": {},
     "output_type": "execute_result"
    }
   ],
   "source": [
    "dummy_region.parse_action(0, np.zeros((4,2)))"
   ]
  },
  {
   "cell_type": "code",
   "execution_count": null,
   "metadata": {},
   "outputs": [],
   "source": [
    "# From a starting node, we need to sample multiple path instances, and allocate number of particles go to these path.\n",
    "# Need to get all paths starting from a given state and rollout k steps. As well as weight of these paths\n",
    "def get_all_path_from_state(state_id, steps, ):"
   ]
  }
 ],
 "metadata": {
  "kernelspec": {
   "display_name": "Python 3.8.13 ('nimble_dev')",
   "language": "python",
   "name": "python3"
  },
  "language_info": {
   "codemirror_mode": {
    "name": "ipython",
    "version": 3
   },
   "file_extension": ".py",
   "mimetype": "text/x-python",
   "name": "python",
   "nbconvert_exporter": "python",
   "pygments_lexer": "ipython3",
   "version": "3.8.13"
  },
  "orig_nbformat": 4,
  "vscode": {
   "interpreter": {
    "hash": "07c80fb706c8613e3e993fd79155accb8ca952c883d2b3c2120d0d77d7b52932"
   }
  }
 },
 "nbformat": 4,
 "nbformat_minor": 2
}
