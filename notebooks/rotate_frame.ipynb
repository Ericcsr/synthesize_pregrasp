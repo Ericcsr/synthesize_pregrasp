{
 "cells": [
  {
   "cell_type": "code",
   "execution_count": 1,
   "source": [
    "import numpy as np\n",
    "obj_state = np.load(\"obj_keyframes.npy\")\n",
    "tip_poses = np.load(\"tip_poses.npy\")\n",
    "new_tip_poses = tip_poses.copy()"
   ],
   "outputs": [],
   "metadata": {}
  },
  {
   "cell_type": "code",
   "execution_count": 2,
   "source": [
    "import pytorch_kinematics as pk\n",
    "import torch"
   ],
   "outputs": [],
   "metadata": {}
  },
  {
   "cell_type": "code",
   "execution_count": 3,
   "source": [
    "def getRelativePose(tip_pose, obj_pose, obj_orn):\n",
    "    r = tip_pose - obj_pose\n",
    "    orn = torch.tensor([obj_orn[3], obj_orn[0], obj_orn[1], obj_orn[2]])\n",
    "    orn_inv = pk.quaternion_invert(orn)\n",
    "    r = pk.quaternion_apply(orn_inv, torch.from_numpy(r)).numpy()\n",
    "    return r\n",
    "\n",
    "def getWorldPose(rel_pos, obj_pose, obj_orn):\n",
    "    orn = torch.tensor([obj_orn[3], obj_orn[0], obj_orn[1], obj_orn[2]])\n",
    "    r = pk.quaternion_apply(orn, torch.from_numpy(rel_pos)).numpy()\n",
    "    return r + obj_pose"
   ],
   "outputs": [],
   "metadata": {}
  },
  {
   "cell_type": "code",
   "execution_count": 4,
   "source": [
    "mid_0 = tip_poses[0,2]\n",
    "mid_0_rel = getRelativePose(mid_0, obj_state[0,:3], obj_state[0,3:])\n",
    "mid_1_world = getWorldPose(mid_0_rel, obj_state[1,:3], obj_state[1,3:])\n",
    "new_tip_poses[1,2] = mid_1_world\n",
    "\n",
    "thb_2 = tip_poses[2,0]\n",
    "thb_2_rel = getRelativePose(thb_2, obj_state[2,:3], obj_state[2,3:])\n",
    "thb_3_world = getWorldPose(thb_2_rel, obj_state[3,:3],obj_state[3,3:])\n",
    "new_tip_poses[3,0] = thb_3_world\n",
    "\n",
    "idx_3 = tip_poses[3,1]\n",
    "idx_3_rel = getRelativePose(idx_3, obj_state[3,:3], obj_state[3,3:])\n",
    "idx_4_world = getWorldPose(idx_3_rel, obj_state[4,:3],obj_state[4,3:])\n",
    "new_tip_poses[4,1] = idx_4_world"
   ],
   "outputs": [],
   "metadata": {}
  },
  {
   "cell_type": "code",
   "execution_count": 5,
   "source": [
    "np.save(\"new_tip_poses.npy\", new_tip_poses)"
   ],
   "outputs": [],
   "metadata": {}
  },
  {
   "cell_type": "code",
   "execution_count": null,
   "source": [],
   "outputs": [],
   "metadata": {}
  }
 ],
 "metadata": {
  "orig_nbformat": 4,
  "language_info": {
   "name": "python",
   "version": "3.8.12",
   "mimetype": "text/x-python",
   "codemirror_mode": {
    "name": "ipython",
    "version": 3
   },
   "pygments_lexer": "ipython3",
   "nbconvert_exporter": "python",
   "file_extension": ".py"
  },
  "kernelspec": {
   "name": "python3",
   "display_name": "Python 3.8.12 64-bit ('nimble_dev': conda)"
  },
  "interpreter": {
   "hash": "025d5230648ed527189f2507de61c2376f36caa61d13b6aa2c531afb24f6cd35"
  }
 },
 "nbformat": 4,
 "nbformat_minor": 2
}