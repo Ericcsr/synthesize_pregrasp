{
 "cells": [
  {
   "cell_type": "code",
   "execution_count": 1,
   "metadata": {},
   "outputs": [
    {
     "name": "stdout",
     "output_type": "stream",
     "text": [
      "Jupyter environment detected. Enabling Open3D WebVisualizer.\n",
      "[Open3D INFO] WebRTC GUI backend enabled.\n",
      "[Open3D INFO] WebRTCWindowSystem: HTTP handshake server disabled.\n"
     ]
    }
   ],
   "source": [
    "import open3d as o3d\n",
    "import numpy as np"
   ]
  },
  {
   "cell_type": "code",
   "execution_count": 2,
   "metadata": {},
   "outputs": [],
   "source": [
    "pcds = []\n",
    "for i in range(9):\n",
    "    pcd = o3d.io.read_point_cloud(f\"../data/seeds_full/pointclouds/pose_{i}_pcd.ply\")\n",
    "    pcds.append(pcd)"
   ]
  },
  {
   "cell_type": "code",
   "execution_count": 3,
   "metadata": {},
   "outputs": [],
   "source": [
    "import copy"
   ]
  },
  {
   "cell_type": "code",
   "execution_count": 4,
   "metadata": {},
   "outputs": [],
   "source": [
    "test_pcd = copy.deepcopy(pcds[0])"
   ]
  },
  {
   "cell_type": "code",
   "execution_count": 5,
   "metadata": {},
   "outputs": [],
   "source": [
    "scale_mat = np.array([[1,0,0,0],\n",
    "                      [0,1,0,0],\n",
    "                      [0,0,1,0],\n",
    "                      [0,0,0,1]])"
   ]
  },
  {
   "cell_type": "code",
   "execution_count": 6,
   "metadata": {},
   "outputs": [],
   "source": [
    "scaled_mats = []\n",
    "for i in range(27):\n",
    "    sx = np.random.random() * 0.5 + 0.5\n",
    "    sy = np.random.random() * 0.5 + 0.5\n",
    "    sz = np.random.random() * 0.5 + 0.5\n",
    "    scale_mat = np.array([[sx,0,0,0],\n",
    "                          [0,sy,0,0],\n",
    "                          [0,0,sz,0],\n",
    "                          [0,0,0, 1]])\n",
    "    scaled_mats.append(scale_mat)"
   ]
  },
  {
   "cell_type": "code",
   "execution_count": 7,
   "metadata": {},
   "outputs": [],
   "source": [
    "scaled_pcd = []\n",
    "for i,pcd in enumerate(pcds):\n",
    "    scaled_pcd.append(copy.deepcopy(pcd))\n",
    "    for j in range(3):\n",
    "        scaled_pcd.append(copy.deepcopy(pcd).transform(scaled_mats[3*i+j]))"
   ]
  },
  {
   "cell_type": "code",
   "execution_count": 13,
   "metadata": {},
   "outputs": [
    {
     "name": "stdout",
     "output_type": "stream",
     "text": [
      "36\n"
     ]
    }
   ],
   "source": [
    "print(len(scaled_pcd))"
   ]
  },
  {
   "cell_type": "code",
   "execution_count": 8,
   "metadata": {},
   "outputs": [],
   "source": [
    "for i,spcd in enumerate(scaled_pcd):\n",
    "    o3d.io.write_point_cloud(f\"../data/seeds_scale/pointclouds/pose_{i:02}_pcd.ply\", spcd)"
   ]
  },
  {
   "cell_type": "code",
   "execution_count": 9,
   "metadata": {},
   "outputs": [],
   "source": [
    "grasps = []\n",
    "for i in range(9):\n",
    "    grasp = np.load(f\"../data/seeds_full/grasps/pose_{i}.npy\")\n",
    "    grasps.append(grasp)"
   ]
  },
  {
   "cell_type": "code",
   "execution_count": 10,
   "metadata": {},
   "outputs": [],
   "source": [
    "scaled_grasps = []\n",
    "scales = []\n",
    "for i,grasp in enumerate(grasps):\n",
    "    scaled_grasps.append(grasps[i].copy())\n",
    "    scales.append(np.array([1.,1.,1.]))\n",
    "    for j in range(3):\n",
    "        scale_vec = scaled_mats[3*i+j].diagonal()[:3]\n",
    "        scales.append(scale_vec)\n",
    "        scaled_grasp = grasps[i].copy()\n",
    "        scaled_grasp[:,:,:3] *= scale_vec\n",
    "        scaled_grasps.append(scaled_grasp)"
   ]
  },
  {
   "cell_type": "code",
   "execution_count": 11,
   "metadata": {},
   "outputs": [],
   "source": [
    "for i, sgrasp in enumerate(scaled_grasps):\n",
    "    np.save(f\"../data/seeds_scale/grasps/pose_{i:02}.npy\", sgrasp)"
   ]
  },
  {
   "cell_type": "code",
   "execution_count": 12,
   "metadata": {},
   "outputs": [],
   "source": [
    "for i, scale in enumerate(scales):\n",
    "    np.save(f\"../data/seeds_scale/scales/pose_{i:02}.npy\", scale)"
   ]
  },
  {
   "cell_type": "code",
   "execution_count": 16,
   "metadata": {},
   "outputs": [],
   "source": [
    "bad_grasps = []\n",
    "for i in range(9):\n",
    "    bg = np.load(f\"../data/seeds_full/bad_grasps/pose_{i}.npy\")\n",
    "    bad_grasps.append(bg)"
   ]
  },
  {
   "cell_type": "code",
   "execution_count": 17,
   "metadata": {},
   "outputs": [],
   "source": [
    "scaled_bad_grasps = []\n",
    "for i,grasp in enumerate(grasps):\n",
    "    scaled_bad_grasps.append(grasps[i].copy())\n",
    "    for j in range(3):\n",
    "        scale_vec = scaled_mats[3*i+j].diagonal()[:3]\n",
    "        scaled_bad_grasp = grasps[i].copy()\n",
    "        scaled_bad_grasp[:,:,:3] *= scale_vec\n",
    "        scaled_bad_grasps.append(scaled_grasp)"
   ]
  },
  {
   "cell_type": "code",
   "execution_count": 19,
   "metadata": {},
   "outputs": [],
   "source": [
    "for i, sbgrasp in enumerate(scaled_bad_grasps):\n",
    "    np.save(f\"../data/seeds_scale/bad_grasps/pose_{i:02}.npy\", sbgrasp)"
   ]
  },
  {
   "cell_type": "code",
   "execution_count": null,
   "metadata": {},
   "outputs": [],
   "source": []
  }
 ],
 "metadata": {
  "kernelspec": {
   "display_name": "Python 3.8.13 ('dex')",
   "language": "python",
   "name": "python3"
  },
  "language_info": {
   "codemirror_mode": {
    "name": "ipython",
    "version": 3
   },
   "file_extension": ".py",
   "mimetype": "text/x-python",
   "name": "python",
   "nbconvert_exporter": "python",
   "pygments_lexer": "ipython3",
   "version": "3.8.13"
  },
  "orig_nbformat": 4,
  "vscode": {
   "interpreter": {
    "hash": "00b8f4a69a0ca14138cc33727ee41215cd45af553930c27cfc01041823663372"
   }
  }
 },
 "nbformat": 4,
 "nbformat_minor": 2
}
