{
 "cells": [
  {
   "cell_type": "code",
   "execution_count": 1,
   "metadata": {},
   "outputs": [],
   "source": [
    "import numpy as np"
   ]
  },
  {
   "cell_type": "code",
   "execution_count": 10,
   "metadata": {},
   "outputs": [],
   "source": [
    "region = np.array([[0.05, 0.05, 0.025, 0.075, 0.0, 0.04],\n",
    "                   [0.05, 0.05, -0.025, 0.025, 0.0, 0.04],\n",
    "                   [0.05, 0.05, -0.075, -0.025, 0.0, 0.04],\n",
    "                   [0.05, 0.1, 0.025, 0.075, 0.04, 0.04],\n",
    "                   [0.05, 0.1, -0.025, 0.025, 0.04,0.04],\n",
    "                   [0.05, 0.1, -0.075, -0.025, 0.04, 0.04],\n",
    "                   [0.05, 0.1, 0.025, 0.075, 0.,0.],\n",
    "                   [0.05, 0.1, -0.025, 0.025, 0.0, 0.0],\n",
    "                   [0.05, 0.1, -0.075,-0.025, 0.0, 0.0],\n",
    "                   [0.1, 0.1, 0.025, 0.075, 0, 0.04],\n",
    "                   [0.1, 0.1, -0.025,0.025, 0.0, 0.04],\n",
    "                   [0.1, 0.1, -0.075, -0.025, 0.0, 0.04],\n",
    "                   [0, 0.05, 0.075, 0.075, 0, 0.04],\n",
    "                   [0, 0.05,0.075, 0.105, 0.04, 0.04],\n",
    "                   [0.05, 0.1, 0.075, 0.105, 0.04, 0.04],\n",
    "                   [0,0.05, 0.075, 0.105, 0.0, 0.0],\n",
    "                   [0.05, 0.1, 0.075, 0.105, 0.0,0],\n",
    "                   [0, 0.05, 0.105, 0.105, 0, 0.04],\n",
    "                   [0.05, 0.1, 0.105, 0.105, 0, 0.04],\n",
    "                   [0.1, 0.1, 0.075, 0.105, 0, 0.04],\n",
    "                   [0, 0.05, -0.075, -0.075, 0, 0.04],\n",
    "                   [0, 0.05, -0.105, -0.075, 0.04, 0.04],\n",
    "                   [0.05, 0.1, -0.105, -0.075, 0.04, 0.04],\n",
    "                   [0, 0.05, -0.105, -0.075, 0.0, 0.0],\n",
    "                   [0.05, 0.1, -0.105, -0.075, 0.0, 0.0],\n",
    "                   [0, 0.05, -0.105, -0.105, 0., 0.04],\n",
    "                   [0.05, 0.1, -0.105, -0.105, 0, 0.04],\n",
    "                   [0.1, 0.1, -0.105, -0.075, 0,0.04],\n",
    "                   [0, 0, 0.075, 0.105, 0, 0.04],\n",
    "                   [0,0,-0.105,-0.075, 0.0, 0.04]])"
   ]
  },
  {
   "cell_type": "code",
   "execution_count": 11,
   "metadata": {},
   "outputs": [
    {
     "data": {
      "text/plain": [
       "(30, 6)"
      ]
     },
     "execution_count": 11,
     "metadata": {},
     "output_type": "execute_result"
    }
   ],
   "source": [
    "region.shape"
   ]
  },
  {
   "cell_type": "code",
   "execution_count": 15,
   "metadata": {},
   "outputs": [],
   "source": [
    "fixed_axes = np.array([0,0,0,2,2,2,2,2,2,0,0,0,1,2,2,2,2,1,1,0,1,2,2,2,2,1,1,0,0,0])"
   ]
  },
  {
   "cell_type": "code",
   "execution_count": 17,
   "metadata": {},
   "outputs": [],
   "source": [
    "surface_norm = np.array([[-1.0, 0.0, 0.0],\n",
    "                         [-1.0, 0.0, 0.0],\n",
    "                         [-1.0, 0.0, 0.0],\n",
    "                         [0.0, 0.0, 1.0],\n",
    "                         [0.0, 0.0, 1.0],\n",
    "                         [0.0, 0.0, 1.0],\n",
    "                         [0.0, 0.0, -1.0],\n",
    "                         [0.0, 0.0, -1.0],\n",
    "                         [0.0, 0.0, -1.0],\n",
    "                         [1.0, 0.0, 0.0],\n",
    "                         [1.0, 0.0, 0.0],\n",
    "                         [1.0, 0.0, 0.0],\n",
    "                         [0.0, -1.0, 0.0],\n",
    "                         [0.0, 0.0, 1.0],\n",
    "                         [0.0, 0.0, 1.0],\n",
    "                         [0.0, 0.0, -1.0],\n",
    "                         [0.0, 0.0, -1.0],\n",
    "                         [0.0, 1.0, 0.0],\n",
    "                         [0.0, 1.0, 0.0],\n",
    "                         [1.0, 0.0, 0.0],\n",
    "                         [0.0, 1.0, 0.0],\n",
    "                         [0.0, 0.0, 1.0],\n",
    "                         [0.0, 0.0, 1.0],\n",
    "                         [0.0, 0.0, -1.0],\n",
    "                         [0.0, 0.0, -1.0],\n",
    "                         [0.0, -1.0, 0.0],\n",
    "                         [0.0, -1.0, 0.0],\n",
    "                         [1.0, 0.0, 0.0],\n",
    "                         [-1.0, 0.0, 0.0],\n",
    "                         [-1.0, 0.0, 0.0]])"
   ]
  },
  {
   "cell_type": "code",
   "execution_count": 18,
   "metadata": {},
   "outputs": [
    {
     "data": {
      "text/plain": [
       "(30, 3)"
      ]
     },
     "execution_count": 18,
     "metadata": {},
     "output_type": "execute_result"
    }
   ],
   "source": [
    "surface_norm.shape"
   ]
  },
  {
   "cell_type": "code",
   "execution_count": 20,
   "metadata": {},
   "outputs": [],
   "source": [
    "np.savez(\"../data/regions/handle_region.npz\", regions=region,fixed_axes=fixed_axes, surface_norm=surface_norm)"
   ]
  },
  {
   "cell_type": "code",
   "execution_count": null,
   "metadata": {},
   "outputs": [],
   "source": []
  }
 ],
 "metadata": {
  "kernelspec": {
   "display_name": "Python 3.8.13 ('dex')",
   "language": "python",
   "name": "python3"
  },
  "language_info": {
   "codemirror_mode": {
    "name": "ipython",
    "version": 3
   },
   "file_extension": ".py",
   "mimetype": "text/x-python",
   "name": "python",
   "nbconvert_exporter": "python",
   "pygments_lexer": "ipython3",
   "version": "3.8.13"
  },
  "orig_nbformat": 4,
  "vscode": {
   "interpreter": {
    "hash": "00b8f4a69a0ca14138cc33727ee41215cd45af553930c27cfc01041823663372"
   }
  }
 },
 "nbformat": 4,
 "nbformat_minor": 2
}
