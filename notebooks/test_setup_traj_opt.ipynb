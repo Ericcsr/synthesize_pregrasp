{
 "cells": [
  {
   "cell_type": "code",
   "execution_count": 1,
   "metadata": {},
   "outputs": [],
   "source": [
    "from pydrake.multibody.plant import MultibodyPlant, AddMultibodyPlantSceneGraph\n",
    "from pydrake.multibody.inverse_kinematics import PositionConstraint, MinimumDistanceConstraint\n",
    "from pydrake.multibody.parsing import Parser\n",
    "from pydrake.systems.framework import DiagramBuilder\n",
    "from pydrake.solvers.mathematicalprogram import MathematicalProgram\n",
    "from pydrake.math import RigidTransform\n",
    "from pydrake.solvers.snopt import SnoptSolver\n",
    "from pydrake.symbolic import Variable\n",
    "from pydrake.all import eq\n",
    "import numpy as np"
   ]
  },
  {
   "cell_type": "code",
   "execution_count": 2,
   "metadata": {},
   "outputs": [],
   "source": [
    "builder = DiagramBuilder()\n",
    "plant, scene_graph = AddMultibodyPlantSceneGraph(builder, MultibodyPlant(time_step=0.01))\n",
    "parser = Parser(plant)\n",
    "arm = parser.AddModelFromFile(\"../model/resources/allegro_hand_description/urdf/allegro_arm.urdf\")"
   ]
  },
  {
   "cell_type": "code",
   "execution_count": 3,
   "metadata": {},
   "outputs": [],
   "source": [
    "root = plant.GetBodyByName(\"hand_root\")\n",
    "root_frame = root.body_frame()\n",
    "plant.WeldFrames(plant.world_frame(),\n",
    "                 root_frame,\n",
    "                 RigidTransform(p=np.zeros(3)))\n",
    "plant.Finalize()\n",
    "\n",
    "# Create Plant context\n",
    "diagram = builder.Build()\n",
    "diagram_context = diagram.CreateDefaultContext()\n",
    "plant_context = diagram.GetMutableSubsystemContext(plant, diagram_context)\n",
    "plant.SetPositions(plant_context, np.zeros(plant.num_positions(),))"
   ]
  },
  {
   "cell_type": "code",
   "execution_count": 4,
   "metadata": {},
   "outputs": [
    {
     "name": "stdout",
     "output_type": "stream",
     "text": [
      "[-3.1415    -3.1415926 -2.        -2.        -1.47      -0.47\n",
      " -0.196     -0.174     -0.227     -0.47      -0.196     -0.174\n",
      " -0.227     -0.47      -0.196     -0.174     -0.227     -0.11\n",
      " -0.105     -0.189     -0.162    ]\n",
      "[3.1415    3.1415926 2.        2.        1.47      0.47      1.61\n",
      " 1.709     1.618     0.47      1.61      1.709     1.618     0.47\n",
      " 1.61      1.709     1.618     1.396     1.163     1.644     1.719    ]\n"
     ]
    }
   ],
   "source": [
    "# Setup mathematical problem\n",
    "prog = MathematicalProgram()\n",
    "\n",
    "# Add variables\n",
    "q = np.empty((5, plant.num_positions()), dtype = Variable)\n",
    "dq = np.empty((4, plant.num_positions()), dtype = Variable)\n",
    "for i in range(5):\n",
    "    q[i] = prog.NewContinuousVariables(plant.num_positions(), 'q'+str(i))\n",
    "\n",
    "for i in range(4):\n",
    "    dq[i] = prog.NewContinuousVariables(plant.num_positions(), 'dq'+str(i))\n",
    "\n",
    "# Add constraints\n",
    "joint_lower_limits = plant.GetPositionLowerLimits()\n",
    "joint_upper_limits = plant.GetPositionUpperLimits()\n",
    "print(joint_lower_limits)\n",
    "print(joint_upper_limits)\n",
    "\n",
    "# Transition constraints\n",
    "prog.AddConstraint(eq(q[0], np.zeros(plant.num_positions())))\n",
    "prog.AddConstraint(eq(q[4], 0.2 *np.ones(plant.num_positions())))\n",
    "for i in range(4):\n",
    "    prog.AddConstraint(eq(q[i+1], q[i]+dq[i]))\n",
    "    prog.AddBoundingBoxConstraint(joint_lower_limits * 0.1, joint_upper_limits * 0.1, dq[i])\n",
    "\n",
    "for i in range(5):\n",
    "    prog.AddBoundingBoxConstraint(joint_lower_limits, joint_upper_limits, q[i])\n",
    "\n",
    "# Add End effector position constraint\n",
    "source_body = plant.GetBodyByName(\"link_15_tip\")\n",
    "source_frame = source_body.body_frame()\n",
    "\n",
    "position_constraint = PositionConstraint(plant, \n",
    "                                             plant.world_frame(), \n",
    "                                             np.array([0.1, 0.2, 0.1])-0.01,\n",
    "                                             np.array([0.1, 0.2, 0.1])+0.01,\n",
    "                                             source_frame,\n",
    "                                             np.zeros(3),\n",
    "                                             plant_context)\n",
    "no_collision_constraint = MinimumDistanceConstraint(plant, 1e-4, plant_context)\n",
    "for i in range(5):\n",
    "    prog.AddConstraint(position_constraint, q[i])\n",
    "    prog.AddConstraint(no_collision_constraint, q[i])\n"
   ]
  },
  {
   "cell_type": "code",
   "execution_count": 5,
   "metadata": {},
   "outputs": [],
   "source": [
    "solver = SnoptSolver()\n",
    "result = solver.Solve(prog, np.random.random(9 * plant.num_positions()))"
   ]
  },
  {
   "cell_type": "code",
   "execution_count": 7,
   "metadata": {},
   "outputs": [
    {
     "data": {
      "text/plain": [
       "(189,)"
      ]
     },
     "execution_count": 7,
     "metadata": {},
     "output_type": "execute_result"
    }
   ],
   "source": [
    "sol = result.GetSolution()"
   ]
  },
  {
   "cell_type": "code",
   "execution_count": null,
   "metadata": {},
   "outputs": [],
   "source": [
    "no_collision_constraint"
   ]
  }
 ],
 "metadata": {
  "interpreter": {
   "hash": "07c80fb706c8613e3e993fd79155accb8ca952c883d2b3c2120d0d77d7b52932"
  },
  "kernelspec": {
   "display_name": "Python 3.8.13 ('nimble_dev')",
   "language": "python",
   "name": "python3"
  },
  "language_info": {
   "codemirror_mode": {
    "name": "ipython",
    "version": 3
   },
   "file_extension": ".py",
   "mimetype": "text/x-python",
   "name": "python",
   "nbconvert_exporter": "python",
   "pygments_lexer": "ipython3",
   "version": "3.8.13"
  },
  "orig_nbformat": 4
 },
 "nbformat": 4,
 "nbformat_minor": 2
}
