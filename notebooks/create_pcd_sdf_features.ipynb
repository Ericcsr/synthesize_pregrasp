{
 "cells": [
  {
   "cell_type": "code",
   "execution_count": 1,
   "metadata": {},
   "outputs": [
    {
     "name": "stdout",
     "output_type": "stream",
     "text": [
      "Jupyter environment detected. Enabling Open3D WebVisualizer.\n",
      "[Open3D INFO] WebRTC GUI backend enabled.\n",
      "[Open3D INFO] WebRTCWindowSystem: HTTP handshake server disabled.\n"
     ]
    },
    {
     "data": {
      "text/plain": [
       "TriangleMesh with 8 points and 12 triangles."
      ]
     },
     "execution_count": 1,
     "metadata": {},
     "output_type": "execute_result"
    }
   ],
   "source": [
    "import numpy as np\n",
    "import open3d as o3d\n",
    "\n",
    "floor = o3d.geometry.TriangleMesh.create_box(2, 2, 0.02)\n",
    "floor.translate([-1, -1, -0.02])\n",
    "floor.compute_triangle_normals()\n",
    "floor.compute_vertex_normals()"
   ]
  },
  {
   "cell_type": "code",
   "execution_count": 4,
   "metadata": {},
   "outputs": [],
   "source": [
    "pcd0 = o3d.io.read_point_cloud(\"../data/seeds/pointclouds/pose_0_pcd.ply\")\n",
    "pcd0.translate([0, 0, 0.1])\n",
    "np.save(\"../data/seeds/pointclouds_df/pose_0_pcd.npy\", np.asarray(pcd0.points)[:,2])\n",
    "o3d.visualization.draw_geometries([floor, pcd0])"
   ]
  },
  {
   "cell_type": "code",
   "execution_count": 14,
   "metadata": {},
   "outputs": [],
   "source": [
    "pcd3 = o3d.io.read_point_cloud(\"../data/seeds/pointclouds/pose_3_pcd.ply\")\n",
    "pcd3.rotate(np.array([[0.9848, 0, -0.1737],[0, 1, 0],[0.1737, 0, 0.9848]]))\n",
    "pcd3.translate([0, 0, 0.07])\n",
    "\n",
    "np.save(\"../data/seeds/pointclouds_df/pose_3_pcd.npy\", np.asarray(pcd3.points)[:,2])\n",
    "o3d.visualization.draw_geometries([floor, pcd3])"
   ]
  },
  {
   "cell_type": "code",
   "execution_count": 17,
   "metadata": {},
   "outputs": [],
   "source": [
    "pcd4 = o3d.io.read_point_cloud(\"../data/seeds/pointclouds/pose_4_pcd.ply\")\n",
    "pcd4.rotate(np.array([[0.9396, 0, -0.3421],[0, 1, 0],[0.3421, 0, 0.9396]]))\n",
    "pcd4.translate([0, 0, 0.1])\n",
    "\n",
    "np.save(\"../data/seeds/pointclouds_df/pose_4_pcd.npy\", np.asarray(pcd4.points)[:,2])\n",
    "o3d.visualization.draw_geometries([floor, pcd4])"
   ]
  },
  {
   "cell_type": "code",
   "execution_count": 20,
   "metadata": {},
   "outputs": [],
   "source": [
    "pcd5 = o3d.io.read_point_cloud(\"../data/seeds/pointclouds/pose_5_pcd.ply\")\n",
    "#pcd5.rotate(np.array([[0.9396, 0, -0.3421],[0, 1, 0],[0.3421, 0, 0.9396]]))\n",
    "pcd5.translate([0, 0, 0.05])\n",
    "\n",
    "np.save(\"../data/seeds/pointclouds_df/pose_5_pcd.npy\", np.asarray(pcd5.points)[:,2])\n",
    "o3d.visualization.draw_geometries([floor, pcd5])"
   ]
  },
  {
   "cell_type": "code",
   "execution_count": 7,
   "metadata": {},
   "outputs": [
    {
     "data": {
      "text/plain": [
       "TriangleMesh with 8 points and 12 triangles."
      ]
     },
     "execution_count": 7,
     "metadata": {},
     "output_type": "execute_result"
    }
   ],
   "source": [
    "class DistFieldEnv:\n",
    "    def __init__(self, meshes):\n",
    "        scene = o3d.t.geometry.RaycastingScene()\n",
    "        for mesh in meshes:\n",
    "            mesh.compute_vertex_normals()\n",
    "            mesh.compute_triangle_normals()\n",
    "            mesh_t = o3d.t.geometry.TriangleMesh.from_legacy(mesh)\n",
    "            scene.add_triangles(mesh_t)\n",
    "        self.scene = scene\n",
    "\n",
    "    def get_points_distance(self, points):\n",
    "        return self.scene.compute_distance(points).numpy()\n",
    "\n",
    "wall = o3d.geometry.TriangleMesh.create_box(2,0.02,1)\n",
    "wall.translate([-1, -0.22,0])"
   ]
  },
  {
   "cell_type": "code",
   "execution_count": 13,
   "metadata": {},
   "outputs": [],
   "source": [
    "pcd2 = o3d.io.read_point_cloud(\"../data/seeds/pointclouds/pose_2_pcd.ply\")\n",
    "pcd2.translate([0, 0, 0.1])\n",
    "dist_env = DistFieldEnv([wall, floor])\n",
    "dists = dist_env.get_points_distance(np.asarray(pcd2.points).astype(np.float32))\n",
    "np.save(\"../data/seeds/pointclouds_df/pose_2_pcd.npy\", dists)\n",
    "o3d.visualization.draw_geometries([wall, floor, pcd2])"
   ]
  },
  {
   "cell_type": "code",
   "execution_count": 15,
   "metadata": {},
   "outputs": [],
   "source": [
    "wall = o3d.geometry.TriangleMesh.create_box(0.02,2,1)\n",
    "wall.translate([-0.22, -1, 0])\n",
    "pcd1 = o3d.io.read_point_cloud(\"../data/seeds/pointclouds/pose_1_pcd.ply\")\n",
    "pcd1.translate([0, 0, 0.1])\n",
    "dist_env = DistFieldEnv([wall, floor])\n",
    "dists = dist_env.get_points_distance(np.asarray(pcd1.points).astype(np.float32))\n",
    "np.save(\"../data/seeds/pointclouds_df/pose_1_pcd.npy\", dists)\n",
    "o3d.visualization.draw_geometries([wall, floor, pcd1])"
   ]
  },
  {
   "cell_type": "code",
   "execution_count": 5,
   "metadata": {},
   "outputs": [],
   "source": [
    "dist_env = DistFieldEnv([floor])\n",
    "pcd4 = o3d.io.read_point_cloud(\"../data/seeds/pointclouds/pose_4_pcd.ply\")\n",
    "pcd4.rotate(np.array([[0.9396, 0, -0.3421],[0, 1, 0],[0.3421, 0, 0.9396]]))\n",
    "pcd4.translate([0, 0, 0.1])\n",
    "df = dist_env.get_points_distance(np.asarray(pcd4.points).astype(np.float32))"
   ]
  },
  {
   "cell_type": "code",
   "execution_count": 6,
   "metadata": {},
   "outputs": [
    {
     "data": {
      "text/plain": [
       "array([0.05578194, 0.04749657, 0.12072558, ..., 0.11155964, 0.09275969,\n",
       "       0.11302799], dtype=float32)"
      ]
     },
     "execution_count": 6,
     "metadata": {},
     "output_type": "execute_result"
    }
   ],
   "source": [
    "df"
   ]
  },
  {
   "cell_type": "code",
   "execution_count": 7,
   "metadata": {},
   "outputs": [
    {
     "data": {
      "text/plain": [
       "array([0.05578194, 0.04749657, 0.12072558, ..., 0.11155964, 0.09275969,\n",
       "       0.11302799])"
      ]
     },
     "execution_count": 7,
     "metadata": {},
     "output_type": "execute_result"
    }
   ],
   "source": [
    "np.asarray(pcd4.points)[:,2]"
   ]
  },
  {
   "cell_type": "code",
   "execution_count": 2,
   "metadata": {},
   "outputs": [],
   "source": [
    "trans_0 = np.array([0, 0, 0.1])\n",
    "rot_0 = np.eye(3)\n",
    "env_id_0 = np.array([0])\n",
    "np.savez(\"../data/seeds/obj_pose/pose_0.npz\", trans=trans_0, rot = rot_0, env_id = env_id_0)"
   ]
  },
  {
   "cell_type": "code",
   "execution_count": 3,
   "metadata": {},
   "outputs": [],
   "source": [
    "trans_1 = np.array([0, 0, 0.1])\n",
    "rot_1 = np.eye(3)\n",
    "env_id_1 = np.array([2])\n",
    "np.savez(\"../data/seeds/obj_pose/pose_1.npz\", trans=trans_1, rot = rot_1, env_id = env_id_1)"
   ]
  },
  {
   "cell_type": "code",
   "execution_count": 4,
   "metadata": {},
   "outputs": [],
   "source": [
    "trans_2 = np.array([0, 0, 0.1])\n",
    "rot_2 = np.eye(3)\n",
    "env_id_2 = np.array([1])\n",
    "np.savez(\"../data/seeds/obj_pose/pose_2.npz\", trans=trans_2, rot = rot_2, env_id = env_id_2)"
   ]
  },
  {
   "cell_type": "code",
   "execution_count": 6,
   "metadata": {},
   "outputs": [],
   "source": [
    "trans_3 = np.array([0, 0, 0.07])\n",
    "rot_3 = np.array([[[0.9848, 0, -0.1737],[0, 1, 0],[0.1737, 0, 0.9848]]])\n",
    "env_id_3 = np.array([0])\n",
    "np.savez(\"../data/seeds/obj_pose/pose_3.npz\", trans=trans_3, rot = rot_3, env_id = env_id_3)"
   ]
  },
  {
   "cell_type": "code",
   "execution_count": 7,
   "metadata": {},
   "outputs": [],
   "source": [
    "trans_4 = np.array([0, 0, 0.1])\n",
    "rot_4 = np.array([[[0.9396, 0, -0.3421],[0, 1, 0],[0.3421, 0, 0.9396]]])\n",
    "env_id_4 = np.array([0])\n",
    "np.savez(\"../data/seeds/obj_pose/pose_4.npz\", trans=trans_4, rot = rot_4, env_id = env_id_4)"
   ]
  },
  {
   "cell_type": "code",
   "execution_count": 8,
   "metadata": {},
   "outputs": [],
   "source": [
    "trans_5 = np.array([0, 0, 0.05])\n",
    "rot_5 = np.eye(3)\n",
    "env_id_5 = np.array([0])\n",
    "np.savez(\"../data/seeds/obj_pose/pose_5.npz\", trans=trans_5, rot = rot_5, env_id = env_id_5)"
   ]
  },
  {
   "cell_type": "code",
   "execution_count": null,
   "metadata": {},
   "outputs": [],
   "source": []
  }
 ],
 "metadata": {
  "kernelspec": {
   "display_name": "Python 3.8.13 ('dex_manip')",
   "language": "python",
   "name": "python3"
  },
  "language_info": {
   "codemirror_mode": {
    "name": "ipython",
    "version": 3
   },
   "file_extension": ".py",
   "mimetype": "text/x-python",
   "name": "python",
   "nbconvert_exporter": "python",
   "pygments_lexer": "ipython3",
   "version": "3.8.13"
  },
  "orig_nbformat": 4,
  "vscode": {
   "interpreter": {
    "hash": "a13924603cf124e169c00f51f55efb178979cb98f2833cd534c16d33f0a3fe3d"
   }
  }
 },
 "nbformat": 4,
 "nbformat_minor": 2
}
