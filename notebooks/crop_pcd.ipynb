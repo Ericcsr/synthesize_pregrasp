{
 "cells": [
  {
   "cell_type": "code",
   "execution_count": 1,
   "metadata": {},
   "outputs": [
    {
     "name": "stdout",
     "output_type": "stream",
     "text": [
      "Jupyter environment detected. Enabling Open3D WebVisualizer.\n",
      "[Open3D INFO] WebRTC GUI backend enabled.\n",
      "[Open3D INFO] WebRTCWindowSystem: HTTP handshake server disabled.\n"
     ]
    }
   ],
   "source": [
    "import numpy as np\n",
    "import open3d as o3d\n",
    "import copy"
   ]
  },
  {
   "cell_type": "code",
   "execution_count": 2,
   "metadata": {},
   "outputs": [],
   "source": [
    "mesh_box = o3d.geometry.TriangleMesh.create_box(0.4, 0.4, 0.1)\n",
    "mesh_box.translate([-0.2, -0.2, -0.05])\n",
    "pcd_box = mesh_box.sample_points_poisson_disk(2048, use_triangle_normal=True)"
   ]
  },
  {
   "cell_type": "code",
   "execution_count": 3,
   "metadata": {},
   "outputs": [],
   "source": [
    "o3d.visualization.draw_geometries([pcd_box])"
   ]
  },
  {
   "cell_type": "code",
   "execution_count": 26,
   "metadata": {},
   "outputs": [],
   "source": [
    "# Need to crop negative part of x axis and positive part of y axis\n",
    "# May need to rotate the object to simulate actual condition\n",
    "rot_mat = np.array([[0.86, -0.5, 0],[0.49, 0.86, 0], [0, 0, 1]])\n",
    "pcd_box_rot = copy.deepcopy(pcd_box).rotate(rot_mat)\n",
    "points = np.asarray(pcd_box_rot.points)\n",
    "normals = np.asarray(pcd_box_rot.normals)\n",
    "\n",
    "remove_mask = (points[:,0] < 0.12) * (points[:,1] > -0.12)\n",
    "keep_mask = ~remove_mask\n",
    "crop_points = points[keep_mask]\n",
    "crop_normals = normals[keep_mask]\n",
    "crop_pcd = o3d.geometry.PointCloud(o3d.utility.Vector3dVector(crop_points))\n",
    "crop_pcd.normals = o3d.utility.Vector3dVector(crop_normals)\n",
    "crop_pcd = crop_pcd.rotate(rot_mat.T, center=np.array([0, 0, 0]))"
   ]
  },
  {
   "cell_type": "code",
   "execution_count": 24,
   "metadata": {},
   "outputs": [],
   "source": [
    "o3d.visualization.draw_geometries([crop_pcd])"
   ]
  },
  {
   "cell_type": "code",
   "execution_count": 13,
   "metadata": {},
   "outputs": [
    {
     "data": {
      "text/plain": [
       "True"
      ]
     },
     "execution_count": 13,
     "metadata": {},
     "output_type": "execute_result"
    }
   ],
   "source": [
    "o3d.io.write_point_cloud(\"../data/seeds/pointclouds/pose_6_pcd.ply\", crop_pcd)"
   ]
  },
  {
   "cell_type": "code",
   "execution_count": 16,
   "metadata": {},
   "outputs": [],
   "source": [
    "# Synthesis 3 seed grasps\n",
    "def vis_grasp(tip_poses):\n",
    "    tip_vis_sps = []\n",
    "    for point in tip_poses:\n",
    "        sp = o3d.geometry.TriangleMesh.create_sphere(0.01)\n",
    "        sp.translate(point[:3])\n",
    "        tip_vis_sps.append(sp)\n",
    "    return tip_vis_sps\n",
    "\n",
    "def project_to_pcd(tip_poses, pcd):\n",
    "    \"\"\"\n",
    "    Assume tip_poses is point only, without normals\n",
    "    \"\"\"\n",
    "    kd_tree = o3d.geometry.KDTreeFlann(pcd)\n",
    "    points = np.asarray(pcd.points)\n",
    "    normals = np.asarray(pcd.normals)\n",
    "    new_grasps = np.zeros((tip_poses.shape[0], 6))\n",
    "    for i, tip_pose in enumerate(tip_poses):\n",
    "        idx = kd_tree.search_knn_vector_3d(tip_pose, 1)[1]\n",
    "        new_grasps[i,:3] = points[idx]\n",
    "        new_grasps[i,3:] = normals[idx]\n",
    "    return new_grasps"
   ]
  },
  {
   "cell_type": "code",
   "execution_count": 28,
   "metadata": {},
   "outputs": [],
   "source": [
    "seed_grasp_1 = np.array([[0.14, -0.17, 0.05],\n",
    "                         [0.2, -0.13, 0.0],\n",
    "                         [0.13, -0.15, -0.05]])\n",
    "proj_tip_poses = project_to_pcd(seed_grasp_1, crop_pcd)\n",
    "vis_sps = vis_grasp(proj_tip_poses)\n",
    "o3d.visualization.draw_geometries([crop_pcd]+vis_sps)"
   ]
  },
  {
   "cell_type": "code",
   "execution_count": 30,
   "metadata": {},
   "outputs": [],
   "source": [
    "np.save(\"../data/seeds/grasps/pose_6.npy\", proj_tip_poses.reshape(1, 3, 6))"
   ]
  },
  {
   "cell_type": "code",
   "execution_count": 35,
   "metadata": {},
   "outputs": [],
   "source": [
    "# Synthesis initial condition bad pointcloud\n",
    "pcd_box_bad = copy.deepcopy(pcd_box)\n",
    "aabb = o3d.geometry.AxisAlignedBoundingBox(min_bound=np.array([-0.195, -100, -0.045]),max_bound=np.array([100, 100, 0.045]))\n",
    "pcd_box_bad = pcd_box_bad.crop(aabb)\n",
    "o3d.visualization.draw_geometries([pcd_box_bad])"
   ]
  },
  {
   "cell_type": "code",
   "execution_count": 33,
   "metadata": {},
   "outputs": [
    {
     "data": {
      "text/plain": [
       "AxisAlignedBoundingBox: min: (-0.2, -0.2, -0.05), max: (0.2, 0.2, 0.05)"
      ]
     },
     "execution_count": 33,
     "metadata": {},
     "output_type": "execute_result"
    }
   ],
   "source": []
  },
  {
   "cell_type": "code",
   "execution_count": 37,
   "metadata": {},
   "outputs": [],
   "source": [
    "mesh = o3d.geometry.TriangleMesh.create_from_point_cloud_ball_pivoting(pcd_box_bad, o3d.utility.DoubleVector([0.01, 0.02]))"
   ]
  },
  {
   "cell_type": "code",
   "execution_count": 38,
   "metadata": {},
   "outputs": [],
   "source": [
    "o3d.visualization.draw_geometries([mesh])"
   ]
  },
  {
   "cell_type": "code",
   "execution_count": 39,
   "metadata": {},
   "outputs": [],
   "source": [
    "up_pcd_bad = mesh.sample_points_poisson_disk(1400, use_triangle_normal=True)"
   ]
  },
  {
   "cell_type": "code",
   "execution_count": 40,
   "metadata": {},
   "outputs": [],
   "source": [
    "o3d.visualization.draw_geometries([up_pcd_bad])"
   ]
  },
  {
   "cell_type": "code",
   "execution_count": 41,
   "metadata": {},
   "outputs": [
    {
     "data": {
      "text/plain": [
       "True"
      ]
     },
     "execution_count": 41,
     "metadata": {},
     "output_type": "execute_result"
    }
   ],
   "source": [
    "o3d.io.write_point_cloud(\"../data/seeds/pointclouds/pose_7_pcd.ply\", up_pcd_bad)"
   ]
  },
  {
   "cell_type": "code",
   "execution_count": null,
   "metadata": {},
   "outputs": [],
   "source": []
  }
 ],
 "metadata": {
  "kernelspec": {
   "display_name": "Python 3.8.13 ('dex')",
   "language": "python",
   "name": "python3"
  },
  "language_info": {
   "codemirror_mode": {
    "name": "ipython",
    "version": 3
   },
   "file_extension": ".py",
   "mimetype": "text/x-python",
   "name": "python",
   "nbconvert_exporter": "python",
   "pygments_lexer": "ipython3",
   "version": "3.8.13"
  },
  "orig_nbformat": 4,
  "vscode": {
   "interpreter": {
    "hash": "00b8f4a69a0ca14138cc33727ee41215cd45af553930c27cfc01041823663372"
   }
  }
 },
 "nbformat": 4,
 "nbformat_minor": 2
}
